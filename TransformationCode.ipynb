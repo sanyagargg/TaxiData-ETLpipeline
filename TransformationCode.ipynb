{
  "nbformat": 4,
  "nbformat_minor": 0,
  "metadata": {
    "colab": {
      "provenance": []
    },
    "kernelspec": {
      "name": "ir",
      "display_name": "R"
    },
    "language_info": {
      "name": "R"
    }
  },
  "cells": [
    {
      "cell_type": "markdown",
      "source": [
        "# **AIHT FINAL PROJECT**\n",
        "\n",
        "# Code for Data Modelling"
      ],
      "metadata": {
        "id": "JndaIp50MioY"
      }
    },
    {
      "cell_type": "code",
      "source": [
        "library(dplyr)\n",
        "library(lubridate)\n",
        "library(readr)"
      ],
      "metadata": {
        "id": "Cmfr6S1ZT1DX"
      },
      "execution_count": 217,
      "outputs": []
    },
    {
      "cell_type": "code",
      "source": [
        "# Install the arrow package\n",
        "if (!require(\"arrow\")) install.packages(\"arrow\")"
      ],
      "metadata": {
        "id": "NXdfVs1MGBUU"
      },
      "execution_count": 218,
      "outputs": []
    },
    {
      "cell_type": "code",
      "execution_count": 219,
      "metadata": {
        "colab": {
          "base_uri": "https://localhost:8080/",
          "height": 306
        },
        "id": "GgcM2L9HDHwQ",
        "outputId": "cb703cf6-93bd-4d7f-9f97-9207e9e8875e"
      },
      "outputs": [
        {
          "output_type": "display_data",
          "data": {
            "text/html": [
              "<table class=\"dataframe\">\n",
              "<caption>A tibble: 6 × 19</caption>\n",
              "<thead>\n",
              "\t<tr><th scope=col>VendorID</th><th scope=col>tpep_pickup_datetime</th><th scope=col>tpep_dropoff_datetime</th><th scope=col>passenger_count</th><th scope=col>trip_distance</th><th scope=col>RatecodeID</th><th scope=col>store_and_fwd_flag</th><th scope=col>PULocationID</th><th scope=col>DOLocationID</th><th scope=col>payment_type</th><th scope=col>fare_amount</th><th scope=col>extra</th><th scope=col>mta_tax</th><th scope=col>tip_amount</th><th scope=col>tolls_amount</th><th scope=col>improvement_surcharge</th><th scope=col>total_amount</th><th scope=col>congestion_surcharge</th><th scope=col>Airport_fee</th></tr>\n",
              "\t<tr><th scope=col>&lt;int&gt;</th><th scope=col>&lt;dttm&gt;</th><th scope=col>&lt;dttm&gt;</th><th scope=col>&lt;int&gt;</th><th scope=col>&lt;dbl&gt;</th><th scope=col>&lt;int&gt;</th><th scope=col>&lt;chr&gt;</th><th scope=col>&lt;int&gt;</th><th scope=col>&lt;int&gt;</th><th scope=col>&lt;int&gt;</th><th scope=col>&lt;dbl&gt;</th><th scope=col>&lt;dbl&gt;</th><th scope=col>&lt;dbl&gt;</th><th scope=col>&lt;dbl&gt;</th><th scope=col>&lt;dbl&gt;</th><th scope=col>&lt;dbl&gt;</th><th scope=col>&lt;dbl&gt;</th><th scope=col>&lt;dbl&gt;</th><th scope=col>&lt;dbl&gt;</th></tr>\n",
              "</thead>\n",
              "<tbody>\n",
              "\t<tr><td>1</td><td>2025-01-01 00:18:38</td><td>2025-01-01 00:26:59</td><td>1</td><td>1.60</td><td>1</td><td>N</td><td>229</td><td>237</td><td>1</td><td>10.0</td><td>3.5</td><td>0.5</td><td>3.00</td><td>0</td><td>1</td><td>18.00</td><td>2.5</td><td>0</td></tr>\n",
              "\t<tr><td>1</td><td>2025-01-01 00:32:40</td><td>2025-01-01 00:35:13</td><td>1</td><td>0.50</td><td>1</td><td>N</td><td>236</td><td>237</td><td>1</td><td> 5.1</td><td>3.5</td><td>0.5</td><td>2.02</td><td>0</td><td>1</td><td>12.12</td><td>2.5</td><td>0</td></tr>\n",
              "\t<tr><td>1</td><td>2025-01-01 00:44:04</td><td>2025-01-01 00:46:01</td><td>1</td><td>0.60</td><td>1</td><td>N</td><td>141</td><td>141</td><td>1</td><td> 5.1</td><td>3.5</td><td>0.5</td><td>2.00</td><td>0</td><td>1</td><td>12.10</td><td>2.5</td><td>0</td></tr>\n",
              "\t<tr><td>2</td><td>2025-01-01 00:14:27</td><td>2025-01-01 00:20:01</td><td>3</td><td>0.52</td><td>1</td><td>N</td><td>244</td><td>244</td><td>2</td><td> 7.2</td><td>1.0</td><td>0.5</td><td>0.00</td><td>0</td><td>1</td><td> 9.70</td><td>0.0</td><td>0</td></tr>\n",
              "\t<tr><td>2</td><td>2025-01-01 00:21:34</td><td>2025-01-01 00:25:06</td><td>3</td><td>0.66</td><td>1</td><td>N</td><td>244</td><td>116</td><td>2</td><td> 5.8</td><td>1.0</td><td>0.5</td><td>0.00</td><td>0</td><td>1</td><td> 8.30</td><td>0.0</td><td>0</td></tr>\n",
              "\t<tr><td>2</td><td>2025-01-01 00:48:24</td><td>2025-01-01 01:08:26</td><td>2</td><td>2.63</td><td>1</td><td>N</td><td>239</td><td> 68</td><td>2</td><td>19.1</td><td>1.0</td><td>0.5</td><td>0.00</td><td>0</td><td>1</td><td>24.10</td><td>2.5</td><td>0</td></tr>\n",
              "</tbody>\n",
              "</table>\n"
            ],
            "text/markdown": "\nA tibble: 6 × 19\n\n| VendorID &lt;int&gt; | tpep_pickup_datetime &lt;dttm&gt; | tpep_dropoff_datetime &lt;dttm&gt; | passenger_count &lt;int&gt; | trip_distance &lt;dbl&gt; | RatecodeID &lt;int&gt; | store_and_fwd_flag &lt;chr&gt; | PULocationID &lt;int&gt; | DOLocationID &lt;int&gt; | payment_type &lt;int&gt; | fare_amount &lt;dbl&gt; | extra &lt;dbl&gt; | mta_tax &lt;dbl&gt; | tip_amount &lt;dbl&gt; | tolls_amount &lt;dbl&gt; | improvement_surcharge &lt;dbl&gt; | total_amount &lt;dbl&gt; | congestion_surcharge &lt;dbl&gt; | Airport_fee &lt;dbl&gt; |\n|---|---|---|---|---|---|---|---|---|---|---|---|---|---|---|---|---|---|---|\n| 1 | 2025-01-01 00:18:38 | 2025-01-01 00:26:59 | 1 | 1.60 | 1 | N | 229 | 237 | 1 | 10.0 | 3.5 | 0.5 | 3.00 | 0 | 1 | 18.00 | 2.5 | 0 |\n| 1 | 2025-01-01 00:32:40 | 2025-01-01 00:35:13 | 1 | 0.50 | 1 | N | 236 | 237 | 1 |  5.1 | 3.5 | 0.5 | 2.02 | 0 | 1 | 12.12 | 2.5 | 0 |\n| 1 | 2025-01-01 00:44:04 | 2025-01-01 00:46:01 | 1 | 0.60 | 1 | N | 141 | 141 | 1 |  5.1 | 3.5 | 0.5 | 2.00 | 0 | 1 | 12.10 | 2.5 | 0 |\n| 2 | 2025-01-01 00:14:27 | 2025-01-01 00:20:01 | 3 | 0.52 | 1 | N | 244 | 244 | 2 |  7.2 | 1.0 | 0.5 | 0.00 | 0 | 1 |  9.70 | 0.0 | 0 |\n| 2 | 2025-01-01 00:21:34 | 2025-01-01 00:25:06 | 3 | 0.66 | 1 | N | 244 | 116 | 2 |  5.8 | 1.0 | 0.5 | 0.00 | 0 | 1 |  8.30 | 0.0 | 0 |\n| 2 | 2025-01-01 00:48:24 | 2025-01-01 01:08:26 | 2 | 2.63 | 1 | N | 239 |  68 | 2 | 19.1 | 1.0 | 0.5 | 0.00 | 0 | 1 | 24.10 | 2.5 | 0 |\n\n",
            "text/latex": "A tibble: 6 × 19\n\\begin{tabular}{lllllllllllllllllll}\n VendorID & tpep\\_pickup\\_datetime & tpep\\_dropoff\\_datetime & passenger\\_count & trip\\_distance & RatecodeID & store\\_and\\_fwd\\_flag & PULocationID & DOLocationID & payment\\_type & fare\\_amount & extra & mta\\_tax & tip\\_amount & tolls\\_amount & improvement\\_surcharge & total\\_amount & congestion\\_surcharge & Airport\\_fee\\\\\n <int> & <dttm> & <dttm> & <int> & <dbl> & <int> & <chr> & <int> & <int> & <int> & <dbl> & <dbl> & <dbl> & <dbl> & <dbl> & <dbl> & <dbl> & <dbl> & <dbl>\\\\\n\\hline\n\t 1 & 2025-01-01 00:18:38 & 2025-01-01 00:26:59 & 1 & 1.60 & 1 & N & 229 & 237 & 1 & 10.0 & 3.5 & 0.5 & 3.00 & 0 & 1 & 18.00 & 2.5 & 0\\\\\n\t 1 & 2025-01-01 00:32:40 & 2025-01-01 00:35:13 & 1 & 0.50 & 1 & N & 236 & 237 & 1 &  5.1 & 3.5 & 0.5 & 2.02 & 0 & 1 & 12.12 & 2.5 & 0\\\\\n\t 1 & 2025-01-01 00:44:04 & 2025-01-01 00:46:01 & 1 & 0.60 & 1 & N & 141 & 141 & 1 &  5.1 & 3.5 & 0.5 & 2.00 & 0 & 1 & 12.10 & 2.5 & 0\\\\\n\t 2 & 2025-01-01 00:14:27 & 2025-01-01 00:20:01 & 3 & 0.52 & 1 & N & 244 & 244 & 2 &  7.2 & 1.0 & 0.5 & 0.00 & 0 & 1 &  9.70 & 0.0 & 0\\\\\n\t 2 & 2025-01-01 00:21:34 & 2025-01-01 00:25:06 & 3 & 0.66 & 1 & N & 244 & 116 & 2 &  5.8 & 1.0 & 0.5 & 0.00 & 0 & 1 &  8.30 & 0.0 & 0\\\\\n\t 2 & 2025-01-01 00:48:24 & 2025-01-01 01:08:26 & 2 & 2.63 & 1 & N & 239 &  68 & 2 & 19.1 & 1.0 & 0.5 & 0.00 & 0 & 1 & 24.10 & 2.5 & 0\\\\\n\\end{tabular}\n",
            "text/plain": [
              "  VendorID tpep_pickup_datetime tpep_dropoff_datetime passenger_count\n",
              "1 1        2025-01-01 00:18:38  2025-01-01 00:26:59   1              \n",
              "2 1        2025-01-01 00:32:40  2025-01-01 00:35:13   1              \n",
              "3 1        2025-01-01 00:44:04  2025-01-01 00:46:01   1              \n",
              "4 2        2025-01-01 00:14:27  2025-01-01 00:20:01   3              \n",
              "5 2        2025-01-01 00:21:34  2025-01-01 00:25:06   3              \n",
              "6 2        2025-01-01 00:48:24  2025-01-01 01:08:26   2              \n",
              "  trip_distance RatecodeID store_and_fwd_flag PULocationID DOLocationID\n",
              "1 1.60          1          N                  229          237         \n",
              "2 0.50          1          N                  236          237         \n",
              "3 0.60          1          N                  141          141         \n",
              "4 0.52          1          N                  244          244         \n",
              "5 0.66          1          N                  244          116         \n",
              "6 2.63          1          N                  239           68         \n",
              "  payment_type fare_amount extra mta_tax tip_amount tolls_amount\n",
              "1 1            10.0        3.5   0.5     3.00       0           \n",
              "2 1             5.1        3.5   0.5     2.02       0           \n",
              "3 1             5.1        3.5   0.5     2.00       0           \n",
              "4 2             7.2        1.0   0.5     0.00       0           \n",
              "5 2             5.8        1.0   0.5     0.00       0           \n",
              "6 2            19.1        1.0   0.5     0.00       0           \n",
              "  improvement_surcharge total_amount congestion_surcharge Airport_fee\n",
              "1 1                     18.00        2.5                  0          \n",
              "2 1                     12.12        2.5                  0          \n",
              "3 1                     12.10        2.5                  0          \n",
              "4 1                      9.70        0.0                  0          \n",
              "5 1                      8.30        0.0                  0          \n",
              "6 1                     24.10        2.5                  0          "
            ]
          },
          "metadata": {}
        }
      ],
      "source": [
        "# Load the arrow package\n",
        "library(arrow)\n",
        "\n",
        "# Read the Parquet file\n",
        "df <- read_parquet(\"taxidata.parquet\")\n",
        "\n",
        "\n",
        "# Display the first few rows of the data\n",
        "head(df)\n",
        "\n",
        "#this table(which is a flat hierarchy) needs to be converted into fact and dimension table format (dimensional modeling). Will be done using lucid chart.\n"
      ]
    },
    {
      "cell_type": "code",
      "source": [
        "glimpse(df)"
      ],
      "metadata": {
        "colab": {
          "base_uri": "https://localhost:8080/"
        },
        "id": "DaZOLOAqHbAE",
        "outputId": "1a5398bc-d1e0-4cfa-f71f-cdeea694527e"
      },
      "execution_count": 220,
      "outputs": [
        {
          "output_type": "stream",
          "name": "stdout",
          "text": [
            "Rows: 3,475,226\n",
            "Columns: 19\n",
            "$ VendorID              \u001b[3m\u001b[90m<int>\u001b[39m\u001b[23m 1\u001b[90m, \u001b[39m1\u001b[90m, \u001b[39m1\u001b[90m, \u001b[39m2\u001b[90m, \u001b[39m2\u001b[90m, \u001b[39m2\u001b[90m, \u001b[39m1\u001b[90m, \u001b[39m1\u001b[90m, \u001b[39m1\u001b[90m, \u001b[39m2\u001b[90m, \u001b[39m2\u001b[90m, \u001b[39m2\u001b[90m, \u001b[39m2\u001b[90m, \u001b[39m1\u001b[90m, \u001b[39m1\u001b[90m, \u001b[39m1\u001b[90m, \u001b[39m…\n",
            "$ tpep_pickup_datetime  \u001b[3m\u001b[90m<dttm>\u001b[39m\u001b[23m 2025-01-01 00:18:38\u001b[90m, \u001b[39m2025-01-01 00:32:40\u001b[90m, \u001b[39m2025-…\n",
            "$ tpep_dropoff_datetime \u001b[3m\u001b[90m<dttm>\u001b[39m\u001b[23m 2025-01-01 00:26:59\u001b[90m, \u001b[39m2025-01-01 00:35:13\u001b[90m, \u001b[39m2025-…\n",
            "$ passenger_count       \u001b[3m\u001b[90m<int>\u001b[39m\u001b[23m 1\u001b[90m, \u001b[39m1\u001b[90m, \u001b[39m1\u001b[90m, \u001b[39m3\u001b[90m, \u001b[39m3\u001b[90m, \u001b[39m2\u001b[90m, \u001b[39m0\u001b[90m, \u001b[39m0\u001b[90m, \u001b[39m0\u001b[90m, \u001b[39m1\u001b[90m, \u001b[39m1\u001b[90m, \u001b[39m1\u001b[90m, \u001b[39m3\u001b[90m, \u001b[39m1\u001b[90m, \u001b[39m1\u001b[90m, \u001b[39m3\u001b[90m, \u001b[39m…\n",
            "$ trip_distance         \u001b[3m\u001b[90m<dbl>\u001b[39m\u001b[23m 1.60\u001b[90m, \u001b[39m0.50\u001b[90m, \u001b[39m0.60\u001b[90m, \u001b[39m0.52\u001b[90m, \u001b[39m0.66\u001b[90m, \u001b[39m2.63\u001b[90m, \u001b[39m0.40\u001b[90m, \u001b[39m1.60\u001b[90m, \u001b[39m…\n",
            "$ RatecodeID            \u001b[3m\u001b[90m<int>\u001b[39m\u001b[23m 1\u001b[90m, \u001b[39m1\u001b[90m, \u001b[39m1\u001b[90m, \u001b[39m1\u001b[90m, \u001b[39m1\u001b[90m, \u001b[39m1\u001b[90m, \u001b[39m1\u001b[90m, \u001b[39m1\u001b[90m, \u001b[39m1\u001b[90m, \u001b[39m1\u001b[90m, \u001b[39m1\u001b[90m, \u001b[39m1\u001b[90m, \u001b[39m1\u001b[90m, \u001b[39m1\u001b[90m, \u001b[39m1\u001b[90m, \u001b[39m1\u001b[90m, \u001b[39m…\n",
            "$ store_and_fwd_flag    \u001b[3m\u001b[90m<chr>\u001b[39m\u001b[23m \"N\"\u001b[90m, \u001b[39m\"N\"\u001b[90m, \u001b[39m\"N\"\u001b[90m, \u001b[39m\"N\"\u001b[90m, \u001b[39m\"N\"\u001b[90m, \u001b[39m\"N\"\u001b[90m, \u001b[39m\"N\"\u001b[90m, \u001b[39m\"N\"\u001b[90m, \u001b[39m\"N\"\u001b[90m, \u001b[39m\"N\"…\n",
            "$ PULocationID          \u001b[3m\u001b[90m<int>\u001b[39m\u001b[23m 229\u001b[90m, \u001b[39m236\u001b[90m, \u001b[39m141\u001b[90m, \u001b[39m244\u001b[90m, \u001b[39m244\u001b[90m, \u001b[39m239\u001b[90m, \u001b[39m170\u001b[90m, \u001b[39m234\u001b[90m, \u001b[39m148\u001b[90m, \u001b[39m237…\n",
            "$ DOLocationID          \u001b[3m\u001b[90m<int>\u001b[39m\u001b[23m 237\u001b[90m, \u001b[39m237\u001b[90m, \u001b[39m141\u001b[90m, \u001b[39m244\u001b[90m, \u001b[39m116\u001b[90m, \u001b[39m68\u001b[90m, \u001b[39m170\u001b[90m, \u001b[39m148\u001b[90m, \u001b[39m170\u001b[90m, \u001b[39m262\u001b[90m,\u001b[39m…\n",
            "$ payment_type          \u001b[3m\u001b[90m<int>\u001b[39m\u001b[23m 1\u001b[90m, \u001b[39m1\u001b[90m, \u001b[39m1\u001b[90m, \u001b[39m2\u001b[90m, \u001b[39m2\u001b[90m, \u001b[39m2\u001b[90m, \u001b[39m1\u001b[90m, \u001b[39m1\u001b[90m, \u001b[39m1\u001b[90m, \u001b[39m2\u001b[90m, \u001b[39m2\u001b[90m, \u001b[39m1\u001b[90m, \u001b[39m2\u001b[90m, \u001b[39m2\u001b[90m, \u001b[39m1\u001b[90m, \u001b[39m2\u001b[90m, \u001b[39m…\n",
            "$ fare_amount           \u001b[3m\u001b[90m<dbl>\u001b[39m\u001b[23m 10.0\u001b[90m, \u001b[39m5.1\u001b[90m, \u001b[39m5.1\u001b[90m, \u001b[39m7.2\u001b[90m, \u001b[39m5.8\u001b[90m, \u001b[39m19.1\u001b[90m, \u001b[39m4.4\u001b[90m, \u001b[39m12.1\u001b[90m, \u001b[39m19.1\u001b[90m,\u001b[39m…\n",
            "$ extra                 \u001b[3m\u001b[90m<dbl>\u001b[39m\u001b[23m 3.5\u001b[90m, \u001b[39m3.5\u001b[90m, \u001b[39m3.5\u001b[90m, \u001b[39m1.0\u001b[90m, \u001b[39m1.0\u001b[90m, \u001b[39m1.0\u001b[90m, \u001b[39m3.5\u001b[90m, \u001b[39m3.5\u001b[90m, \u001b[39m3.5\u001b[90m, \u001b[39m1.0…\n",
            "$ mta_tax               \u001b[3m\u001b[90m<dbl>\u001b[39m\u001b[23m 0.5\u001b[90m, \u001b[39m0.5\u001b[90m, \u001b[39m0.5\u001b[90m, \u001b[39m0.5\u001b[90m, \u001b[39m0.5\u001b[90m, \u001b[39m0.5\u001b[90m, \u001b[39m0.5\u001b[90m, \u001b[39m0.5\u001b[90m, \u001b[39m0.5\u001b[90m, \u001b[39m0.5…\n",
            "$ tip_amount            \u001b[3m\u001b[90m<dbl>\u001b[39m\u001b[23m 3.00\u001b[90m, \u001b[39m2.02\u001b[90m, \u001b[39m2.00\u001b[90m, \u001b[39m0.00\u001b[90m, \u001b[39m0.00\u001b[90m, \u001b[39m0.00\u001b[90m, \u001b[39m2.35\u001b[90m, \u001b[39m2.00\u001b[90m, \u001b[39m…\n",
            "$ tolls_amount          \u001b[3m\u001b[90m<dbl>\u001b[39m\u001b[23m 0\u001b[90m, \u001b[39m0\u001b[90m, \u001b[39m0\u001b[90m, \u001b[39m0\u001b[90m, \u001b[39m0\u001b[90m, \u001b[39m0\u001b[90m, \u001b[39m0\u001b[90m, \u001b[39m0\u001b[90m, \u001b[39m0\u001b[90m, \u001b[39m0\u001b[90m, \u001b[39m0\u001b[90m, \u001b[39m0\u001b[90m, \u001b[39m0\u001b[90m, \u001b[39m0\u001b[90m, \u001b[39m0\u001b[90m, \u001b[39m0\u001b[90m, \u001b[39m…\n",
            "$ improvement_surcharge \u001b[3m\u001b[90m<dbl>\u001b[39m\u001b[23m 1\u001b[90m, \u001b[39m1\u001b[90m, \u001b[39m1\u001b[90m, \u001b[39m1\u001b[90m, \u001b[39m1\u001b[90m, \u001b[39m1\u001b[90m, \u001b[39m1\u001b[90m, \u001b[39m1\u001b[90m, \u001b[39m1\u001b[90m, \u001b[39m1\u001b[90m, \u001b[39m1\u001b[90m, \u001b[39m1\u001b[90m, \u001b[39m1\u001b[90m, \u001b[39m1\u001b[90m, \u001b[39m1\u001b[90m, \u001b[39m1\u001b[90m, \u001b[39m…\n",
            "$ total_amount          \u001b[3m\u001b[90m<dbl>\u001b[39m\u001b[23m 18.00\u001b[90m, \u001b[39m12.12\u001b[90m, \u001b[39m12.10\u001b[90m, \u001b[39m9.70\u001b[90m, \u001b[39m8.30\u001b[90m, \u001b[39m24.10\u001b[90m, \u001b[39m11.75\u001b[90m, \u001b[39m1…\n",
            "$ congestion_surcharge  \u001b[3m\u001b[90m<dbl>\u001b[39m\u001b[23m 2.5\u001b[90m, \u001b[39m2.5\u001b[90m, \u001b[39m2.5\u001b[90m, \u001b[39m0.0\u001b[90m, \u001b[39m0.0\u001b[90m, \u001b[39m2.5\u001b[90m, \u001b[39m2.5\u001b[90m, \u001b[39m2.5\u001b[90m, \u001b[39m2.5\u001b[90m, \u001b[39m2.5…\n",
            "$ Airport_fee           \u001b[3m\u001b[90m<dbl>\u001b[39m\u001b[23m 0\u001b[90m, \u001b[39m0\u001b[90m, \u001b[39m0\u001b[90m, \u001b[39m0\u001b[90m, \u001b[39m0\u001b[90m, \u001b[39m0\u001b[90m, \u001b[39m0\u001b[90m, \u001b[39m0\u001b[90m, \u001b[39m0\u001b[90m, \u001b[39m0\u001b[90m, \u001b[39m0\u001b[90m, \u001b[39m0\u001b[90m, \u001b[39m0\u001b[90m, \u001b[39m0\u001b[90m, \u001b[39m0\u001b[90m, \u001b[39m0\u001b[90m, \u001b[39m…\n"
          ]
        }
      ]
    },
    {
      "cell_type": "code",
      "source": [
        "# Convert to datetime\n",
        "df$tpep_pickup_datetime <- ymd_hms(df$tpep_pickup_datetime)\n",
        "df$tpep_dropoff_datetime <- ymd_hms(df$tpep_dropoff_datetime)"
      ],
      "metadata": {
        "colab": {
          "base_uri": "https://localhost:8080/"
        },
        "id": "DRAnh_ZRTnXj",
        "outputId": "b88f492d-7b25-4ad6-b4b4-35a2301bb167"
      },
      "execution_count": 221,
      "outputs": [
        {
          "output_type": "stream",
          "name": "stderr",
          "text": [
            "Warning message:\n",
            "“ 70 failed to parse.”\n",
            "Warning message:\n",
            "“ 310 failed to parse.”\n"
          ]
        }
      ]
    },
    {
      "cell_type": "code",
      "source": [
        "glimpse(df)"
      ],
      "metadata": {
        "colab": {
          "base_uri": "https://localhost:8080/"
        },
        "id": "wdgxEi3sUMHq",
        "outputId": "55ba750b-13e8-4227-b0a5-2f85a96fd0f5"
      },
      "execution_count": 222,
      "outputs": [
        {
          "output_type": "stream",
          "name": "stdout",
          "text": [
            "Rows: 3,475,226\n",
            "Columns: 19\n",
            "$ VendorID              \u001b[3m\u001b[90m<int>\u001b[39m\u001b[23m 1\u001b[90m, \u001b[39m1\u001b[90m, \u001b[39m1\u001b[90m, \u001b[39m2\u001b[90m, \u001b[39m2\u001b[90m, \u001b[39m2\u001b[90m, \u001b[39m1\u001b[90m, \u001b[39m1\u001b[90m, \u001b[39m1\u001b[90m, \u001b[39m2\u001b[90m, \u001b[39m2\u001b[90m, \u001b[39m2\u001b[90m, \u001b[39m2\u001b[90m, \u001b[39m1\u001b[90m, \u001b[39m1\u001b[90m, \u001b[39m1\u001b[90m, \u001b[39m…\n",
            "$ tpep_pickup_datetime  \u001b[3m\u001b[90m<dttm>\u001b[39m\u001b[23m 2025-01-01 00:18:38\u001b[90m, \u001b[39m2025-01-01 00:32:40\u001b[90m, \u001b[39m2025-…\n",
            "$ tpep_dropoff_datetime \u001b[3m\u001b[90m<dttm>\u001b[39m\u001b[23m 2025-01-01 00:26:59\u001b[90m, \u001b[39m2025-01-01 00:35:13\u001b[90m, \u001b[39m2025-…\n",
            "$ passenger_count       \u001b[3m\u001b[90m<int>\u001b[39m\u001b[23m 1\u001b[90m, \u001b[39m1\u001b[90m, \u001b[39m1\u001b[90m, \u001b[39m3\u001b[90m, \u001b[39m3\u001b[90m, \u001b[39m2\u001b[90m, \u001b[39m0\u001b[90m, \u001b[39m0\u001b[90m, \u001b[39m0\u001b[90m, \u001b[39m1\u001b[90m, \u001b[39m1\u001b[90m, \u001b[39m1\u001b[90m, \u001b[39m3\u001b[90m, \u001b[39m1\u001b[90m, \u001b[39m1\u001b[90m, \u001b[39m3\u001b[90m, \u001b[39m…\n",
            "$ trip_distance         \u001b[3m\u001b[90m<dbl>\u001b[39m\u001b[23m 1.60\u001b[90m, \u001b[39m0.50\u001b[90m, \u001b[39m0.60\u001b[90m, \u001b[39m0.52\u001b[90m, \u001b[39m0.66\u001b[90m, \u001b[39m2.63\u001b[90m, \u001b[39m0.40\u001b[90m, \u001b[39m1.60\u001b[90m, \u001b[39m…\n",
            "$ RatecodeID            \u001b[3m\u001b[90m<int>\u001b[39m\u001b[23m 1\u001b[90m, \u001b[39m1\u001b[90m, \u001b[39m1\u001b[90m, \u001b[39m1\u001b[90m, \u001b[39m1\u001b[90m, \u001b[39m1\u001b[90m, \u001b[39m1\u001b[90m, \u001b[39m1\u001b[90m, \u001b[39m1\u001b[90m, \u001b[39m1\u001b[90m, \u001b[39m1\u001b[90m, \u001b[39m1\u001b[90m, \u001b[39m1\u001b[90m, \u001b[39m1\u001b[90m, \u001b[39m1\u001b[90m, \u001b[39m1\u001b[90m, \u001b[39m…\n",
            "$ store_and_fwd_flag    \u001b[3m\u001b[90m<chr>\u001b[39m\u001b[23m \"N\"\u001b[90m, \u001b[39m\"N\"\u001b[90m, \u001b[39m\"N\"\u001b[90m, \u001b[39m\"N\"\u001b[90m, \u001b[39m\"N\"\u001b[90m, \u001b[39m\"N\"\u001b[90m, \u001b[39m\"N\"\u001b[90m, \u001b[39m\"N\"\u001b[90m, \u001b[39m\"N\"\u001b[90m, \u001b[39m\"N\"…\n",
            "$ PULocationID          \u001b[3m\u001b[90m<int>\u001b[39m\u001b[23m 229\u001b[90m, \u001b[39m236\u001b[90m, \u001b[39m141\u001b[90m, \u001b[39m244\u001b[90m, \u001b[39m244\u001b[90m, \u001b[39m239\u001b[90m, \u001b[39m170\u001b[90m, \u001b[39m234\u001b[90m, \u001b[39m148\u001b[90m, \u001b[39m237…\n",
            "$ DOLocationID          \u001b[3m\u001b[90m<int>\u001b[39m\u001b[23m 237\u001b[90m, \u001b[39m237\u001b[90m, \u001b[39m141\u001b[90m, \u001b[39m244\u001b[90m, \u001b[39m116\u001b[90m, \u001b[39m68\u001b[90m, \u001b[39m170\u001b[90m, \u001b[39m148\u001b[90m, \u001b[39m170\u001b[90m, \u001b[39m262\u001b[90m,\u001b[39m…\n",
            "$ payment_type          \u001b[3m\u001b[90m<int>\u001b[39m\u001b[23m 1\u001b[90m, \u001b[39m1\u001b[90m, \u001b[39m1\u001b[90m, \u001b[39m2\u001b[90m, \u001b[39m2\u001b[90m, \u001b[39m2\u001b[90m, \u001b[39m1\u001b[90m, \u001b[39m1\u001b[90m, \u001b[39m1\u001b[90m, \u001b[39m2\u001b[90m, \u001b[39m2\u001b[90m, \u001b[39m1\u001b[90m, \u001b[39m2\u001b[90m, \u001b[39m2\u001b[90m, \u001b[39m1\u001b[90m, \u001b[39m2\u001b[90m, \u001b[39m…\n",
            "$ fare_amount           \u001b[3m\u001b[90m<dbl>\u001b[39m\u001b[23m 10.0\u001b[90m, \u001b[39m5.1\u001b[90m, \u001b[39m5.1\u001b[90m, \u001b[39m7.2\u001b[90m, \u001b[39m5.8\u001b[90m, \u001b[39m19.1\u001b[90m, \u001b[39m4.4\u001b[90m, \u001b[39m12.1\u001b[90m, \u001b[39m19.1\u001b[90m,\u001b[39m…\n",
            "$ extra                 \u001b[3m\u001b[90m<dbl>\u001b[39m\u001b[23m 3.5\u001b[90m, \u001b[39m3.5\u001b[90m, \u001b[39m3.5\u001b[90m, \u001b[39m1.0\u001b[90m, \u001b[39m1.0\u001b[90m, \u001b[39m1.0\u001b[90m, \u001b[39m3.5\u001b[90m, \u001b[39m3.5\u001b[90m, \u001b[39m3.5\u001b[90m, \u001b[39m1.0…\n",
            "$ mta_tax               \u001b[3m\u001b[90m<dbl>\u001b[39m\u001b[23m 0.5\u001b[90m, \u001b[39m0.5\u001b[90m, \u001b[39m0.5\u001b[90m, \u001b[39m0.5\u001b[90m, \u001b[39m0.5\u001b[90m, \u001b[39m0.5\u001b[90m, \u001b[39m0.5\u001b[90m, \u001b[39m0.5\u001b[90m, \u001b[39m0.5\u001b[90m, \u001b[39m0.5…\n",
            "$ tip_amount            \u001b[3m\u001b[90m<dbl>\u001b[39m\u001b[23m 3.00\u001b[90m, \u001b[39m2.02\u001b[90m, \u001b[39m2.00\u001b[90m, \u001b[39m0.00\u001b[90m, \u001b[39m0.00\u001b[90m, \u001b[39m0.00\u001b[90m, \u001b[39m2.35\u001b[90m, \u001b[39m2.00\u001b[90m, \u001b[39m…\n",
            "$ tolls_amount          \u001b[3m\u001b[90m<dbl>\u001b[39m\u001b[23m 0\u001b[90m, \u001b[39m0\u001b[90m, \u001b[39m0\u001b[90m, \u001b[39m0\u001b[90m, \u001b[39m0\u001b[90m, \u001b[39m0\u001b[90m, \u001b[39m0\u001b[90m, \u001b[39m0\u001b[90m, \u001b[39m0\u001b[90m, \u001b[39m0\u001b[90m, \u001b[39m0\u001b[90m, \u001b[39m0\u001b[90m, \u001b[39m0\u001b[90m, \u001b[39m0\u001b[90m, \u001b[39m0\u001b[90m, \u001b[39m0\u001b[90m, \u001b[39m…\n",
            "$ improvement_surcharge \u001b[3m\u001b[90m<dbl>\u001b[39m\u001b[23m 1\u001b[90m, \u001b[39m1\u001b[90m, \u001b[39m1\u001b[90m, \u001b[39m1\u001b[90m, \u001b[39m1\u001b[90m, \u001b[39m1\u001b[90m, \u001b[39m1\u001b[90m, \u001b[39m1\u001b[90m, \u001b[39m1\u001b[90m, \u001b[39m1\u001b[90m, \u001b[39m1\u001b[90m, \u001b[39m1\u001b[90m, \u001b[39m1\u001b[90m, \u001b[39m1\u001b[90m, \u001b[39m1\u001b[90m, \u001b[39m1\u001b[90m, \u001b[39m…\n",
            "$ total_amount          \u001b[3m\u001b[90m<dbl>\u001b[39m\u001b[23m 18.00\u001b[90m, \u001b[39m12.12\u001b[90m, \u001b[39m12.10\u001b[90m, \u001b[39m9.70\u001b[90m, \u001b[39m8.30\u001b[90m, \u001b[39m24.10\u001b[90m, \u001b[39m11.75\u001b[90m, \u001b[39m1…\n",
            "$ congestion_surcharge  \u001b[3m\u001b[90m<dbl>\u001b[39m\u001b[23m 2.5\u001b[90m, \u001b[39m2.5\u001b[90m, \u001b[39m2.5\u001b[90m, \u001b[39m0.0\u001b[90m, \u001b[39m0.0\u001b[90m, \u001b[39m2.5\u001b[90m, \u001b[39m2.5\u001b[90m, \u001b[39m2.5\u001b[90m, \u001b[39m2.5\u001b[90m, \u001b[39m2.5…\n",
            "$ Airport_fee           \u001b[3m\u001b[90m<dbl>\u001b[39m\u001b[23m 0\u001b[90m, \u001b[39m0\u001b[90m, \u001b[39m0\u001b[90m, \u001b[39m0\u001b[90m, \u001b[39m0\u001b[90m, \u001b[39m0\u001b[90m, \u001b[39m0\u001b[90m, \u001b[39m0\u001b[90m, \u001b[39m0\u001b[90m, \u001b[39m0\u001b[90m, \u001b[39m0\u001b[90m, \u001b[39m0\u001b[90m, \u001b[39m0\u001b[90m, \u001b[39m0\u001b[90m, \u001b[39m0\u001b[90m, \u001b[39m0\u001b[90m, \u001b[39m…\n"
          ]
        }
      ]
    },
    {
      "cell_type": "code",
      "source": [
        "# Create datetime dimension\n",
        "datetime_dim <- df %>%\n",
        "  select(tpep_pickup_datetime, tpep_dropoff_datetime) %>%\n",
        "  distinct() %>%\n",
        "  mutate(\n",
        "    pick_hour = hour(tpep_pickup_datetime),\n",
        "    pick_day = day(tpep_pickup_datetime),\n",
        "    pick_month = month(tpep_pickup_datetime),\n",
        "    pick_year = year(tpep_pickup_datetime),\n",
        "    pick_weekday = wday(tpep_pickup_datetime, label = FALSE) - 1,\n",
        "    drop_hour = hour(tpep_dropoff_datetime),\n",
        "    drop_day = day(tpep_dropoff_datetime),\n",
        "    drop_month = month(tpep_dropoff_datetime),\n",
        "    drop_year = year(tpep_dropoff_datetime),\n",
        "    drop_weekday = wday(tpep_dropoff_datetime, label = FALSE) - 1,\n",
        "    datetime_id = row_number()\n",
        "  ) %>%\n",
        "  select(datetime_id, tpep_pickup_datetime, pick_hour, pick_day, pick_month, pick_year, pick_weekday,\n",
        "         tpep_dropoff_datetime, drop_hour, drop_day, drop_month, drop_year, drop_weekday)"
      ],
      "metadata": {
        "id": "QNU80rr6XIZn"
      },
      "execution_count": 223,
      "outputs": []
    },
    {
      "cell_type": "code",
      "source": [
        "datetime_dim"
      ],
      "metadata": {
        "colab": {
          "base_uri": "https://localhost:8080/",
          "height": 1000
        },
        "id": "uPuESnrYXcQx",
        "outputId": "0dc64511-5fea-444a-ed2b-8806a88da577"
      },
      "execution_count": 224,
      "outputs": [
        {
          "output_type": "display_data",
          "data": {
            "text/html": [
              "<table class=\"dataframe\">\n",
              "<caption>A tibble: 3412015 × 13</caption>\n",
              "<thead>\n",
              "\t<tr><th scope=col>datetime_id</th><th scope=col>tpep_pickup_datetime</th><th scope=col>pick_hour</th><th scope=col>pick_day</th><th scope=col>pick_month</th><th scope=col>pick_year</th><th scope=col>pick_weekday</th><th scope=col>tpep_dropoff_datetime</th><th scope=col>drop_hour</th><th scope=col>drop_day</th><th scope=col>drop_month</th><th scope=col>drop_year</th><th scope=col>drop_weekday</th></tr>\n",
              "\t<tr><th scope=col>&lt;int&gt;</th><th scope=col>&lt;dttm&gt;</th><th scope=col>&lt;int&gt;</th><th scope=col>&lt;int&gt;</th><th scope=col>&lt;dbl&gt;</th><th scope=col>&lt;dbl&gt;</th><th scope=col>&lt;dbl&gt;</th><th scope=col>&lt;dttm&gt;</th><th scope=col>&lt;int&gt;</th><th scope=col>&lt;int&gt;</th><th scope=col>&lt;dbl&gt;</th><th scope=col>&lt;dbl&gt;</th><th scope=col>&lt;dbl&gt;</th></tr>\n",
              "</thead>\n",
              "<tbody>\n",
              "\t<tr><td> 1</td><td>2025-01-01 00:18:38</td><td>0</td><td>1</td><td>1</td><td>2025</td><td>3</td><td>2025-01-01 00:26:59</td><td>0</td><td>1</td><td>1</td><td>2025</td><td>3</td></tr>\n",
              "\t<tr><td> 2</td><td>2025-01-01 00:32:40</td><td>0</td><td>1</td><td>1</td><td>2025</td><td>3</td><td>2025-01-01 00:35:13</td><td>0</td><td>1</td><td>1</td><td>2025</td><td>3</td></tr>\n",
              "\t<tr><td> 3</td><td>2025-01-01 00:44:04</td><td>0</td><td>1</td><td>1</td><td>2025</td><td>3</td><td>2025-01-01 00:46:01</td><td>0</td><td>1</td><td>1</td><td>2025</td><td>3</td></tr>\n",
              "\t<tr><td> 4</td><td>2025-01-01 00:14:27</td><td>0</td><td>1</td><td>1</td><td>2025</td><td>3</td><td>2025-01-01 00:20:01</td><td>0</td><td>1</td><td>1</td><td>2025</td><td>3</td></tr>\n",
              "\t<tr><td> 5</td><td>2025-01-01 00:21:34</td><td>0</td><td>1</td><td>1</td><td>2025</td><td>3</td><td>2025-01-01 00:25:06</td><td>0</td><td>1</td><td>1</td><td>2025</td><td>3</td></tr>\n",
              "\t<tr><td> 6</td><td>2025-01-01 00:48:24</td><td>0</td><td>1</td><td>1</td><td>2025</td><td>3</td><td>2025-01-01 01:08:26</td><td>1</td><td>1</td><td>1</td><td>2025</td><td>3</td></tr>\n",
              "\t<tr><td> 7</td><td>2025-01-01 00:14:47</td><td>0</td><td>1</td><td>1</td><td>2025</td><td>3</td><td>2025-01-01 00:16:15</td><td>0</td><td>1</td><td>1</td><td>2025</td><td>3</td></tr>\n",
              "\t<tr><td> 8</td><td>2025-01-01 00:39:27</td><td>0</td><td>1</td><td>1</td><td>2025</td><td>3</td><td>2025-01-01 00:51:51</td><td>0</td><td>1</td><td>1</td><td>2025</td><td>3</td></tr>\n",
              "\t<tr><td> 9</td><td>2025-01-01 00:53:43</td><td>0</td><td>1</td><td>1</td><td>2025</td><td>3</td><td>2025-01-01 01:13:23</td><td>1</td><td>1</td><td>1</td><td>2025</td><td>3</td></tr>\n",
              "\t<tr><td>10</td><td>2025-01-01 00:00:02</td><td>0</td><td>1</td><td>1</td><td>2025</td><td>3</td><td>2025-01-01 00:09:36</td><td>0</td><td>1</td><td>1</td><td>2025</td><td>3</td></tr>\n",
              "\t<tr><td>11</td><td>2025-01-01 00:20:28</td><td>0</td><td>1</td><td>1</td><td>2025</td><td>3</td><td>2025-01-01 00:28:04</td><td>0</td><td>1</td><td>1</td><td>2025</td><td>3</td></tr>\n",
              "\t<tr><td>12</td><td>2025-01-01 00:33:58</td><td>0</td><td>1</td><td>1</td><td>2025</td><td>3</td><td>2025-01-01 00:37:23</td><td>0</td><td>1</td><td>1</td><td>2025</td><td>3</td></tr>\n",
              "\t<tr><td>13</td><td>2025-01-01 00:42:40</td><td>0</td><td>1</td><td>1</td><td>2025</td><td>3</td><td>2025-01-01 00:55:38</td><td>0</td><td>1</td><td>1</td><td>2025</td><td>3</td></tr>\n",
              "\t<tr><td>14</td><td>2025-01-01 00:30:07</td><td>0</td><td>1</td><td>1</td><td>2025</td><td>3</td><td>2025-01-01 00:36:48</td><td>0</td><td>1</td><td>1</td><td>2025</td><td>3</td></tr>\n",
              "\t<tr><td>15</td><td>2025-01-01 00:39:55</td><td>0</td><td>1</td><td>1</td><td>2025</td><td>3</td><td>2025-01-01 01:13:59</td><td>1</td><td>1</td><td>1</td><td>2025</td><td>3</td></tr>\n",
              "\t<tr><td>16</td><td>2025-01-01 00:16:54</td><td>0</td><td>1</td><td>1</td><td>2025</td><td>3</td><td>2025-01-01 00:35:12</td><td>0</td><td>1</td><td>1</td><td>2025</td><td>3</td></tr>\n",
              "\t<tr><td>17</td><td>2025-01-01 00:43:10</td><td>0</td><td>1</td><td>1</td><td>2025</td><td>3</td><td>2025-01-01 01:00:03</td><td>1</td><td>1</td><td>1</td><td>2025</td><td>3</td></tr>\n",
              "\t<tr><td>18</td><td>2025-01-01 00:01:41</td><td>0</td><td>1</td><td>1</td><td>2025</td><td>3</td><td>2025-01-01 00:07:14</td><td>0</td><td>1</td><td>1</td><td>2025</td><td>3</td></tr>\n",
              "\t<tr><td>19</td><td>2025-01-01 00:33:12</td><td>0</td><td>1</td><td>1</td><td>2025</td><td>3</td><td>2025-01-01 00:50:14</td><td>0</td><td>1</td><td>1</td><td>2025</td><td>3</td></tr>\n",
              "\t<tr><td>20</td><td>2025-01-01 00:05:49</td><td>0</td><td>1</td><td>1</td><td>2025</td><td>3</td><td>2025-01-01 00:20:00</td><td>0</td><td>1</td><td>1</td><td>2025</td><td>3</td></tr>\n",
              "\t<tr><td>21</td><td>2025-01-01 00:34:40</td><td>0</td><td>1</td><td>1</td><td>2025</td><td>3</td><td>2025-01-01 00:51:19</td><td>0</td><td>1</td><td>1</td><td>2025</td><td>3</td></tr>\n",
              "\t<tr><td>22</td><td>2025-01-01 00:55:54</td><td>0</td><td>1</td><td>1</td><td>2025</td><td>3</td><td>2025-01-01 01:00:38</td><td>1</td><td>1</td><td>1</td><td>2025</td><td>3</td></tr>\n",
              "\t<tr><td>23</td><td>2025-01-01 00:17:44</td><td>0</td><td>1</td><td>1</td><td>2025</td><td>3</td><td>2025-01-01 00:22:52</td><td>0</td><td>1</td><td>1</td><td>2025</td><td>3</td></tr>\n",
              "\t<tr><td>24</td><td>2025-01-01 00:37:13</td><td>0</td><td>1</td><td>1</td><td>2025</td><td>3</td><td>2025-01-01 00:43:23</td><td>0</td><td>1</td><td>1</td><td>2025</td><td>3</td></tr>\n",
              "\t<tr><td>25</td><td>2025-01-01 00:48:06</td><td>0</td><td>1</td><td>1</td><td>2025</td><td>3</td><td>2025-01-01 00:53:23</td><td>0</td><td>1</td><td>1</td><td>2025</td><td>3</td></tr>\n",
              "\t<tr><td>26</td><td>2025-01-01 00:14:14</td><td>0</td><td>1</td><td>1</td><td>2025</td><td>3</td><td>2025-01-01 00:22:46</td><td>0</td><td>1</td><td>1</td><td>2025</td><td>3</td></tr>\n",
              "\t<tr><td>27</td><td>2025-01-01 00:32:01</td><td>0</td><td>1</td><td>1</td><td>2025</td><td>3</td><td>2025-01-01 00:46:43</td><td>0</td><td>1</td><td>1</td><td>2025</td><td>3</td></tr>\n",
              "\t<tr><td>28</td><td>2025-01-01 00:00:37</td><td>0</td><td>1</td><td>1</td><td>2025</td><td>3</td><td>2025-01-01 00:04:46</td><td>0</td><td>1</td><td>1</td><td>2025</td><td>3</td></tr>\n",
              "\t<tr><td>29</td><td>2025-01-01 00:11:07</td><td>0</td><td>1</td><td>1</td><td>2025</td><td>3</td><td>2025-01-01 00:23:29</td><td>0</td><td>1</td><td>1</td><td>2025</td><td>3</td></tr>\n",
              "\t<tr><td>30</td><td>2025-01-01 00:14:54</td><td>0</td><td>1</td><td>1</td><td>2025</td><td>3</td><td>2025-01-01 00:53:29</td><td>0</td><td>1</td><td>1</td><td>2025</td><td>3</td></tr>\n",
              "\t<tr><td>⋮</td><td>⋮</td><td>⋮</td><td>⋮</td><td>⋮</td><td>⋮</td><td>⋮</td><td>⋮</td><td>⋮</td><td>⋮</td><td>⋮</td><td>⋮</td><td>⋮</td></tr>\n",
              "\t<tr><td>3411986</td><td>2025-01-31 23:04:29</td><td>23</td><td>31</td><td>1</td><td>2025</td><td>5</td><td>2025-01-31 23:18:11</td><td>23</td><td>31</td><td>1</td><td>2025</td><td>5</td></tr>\n",
              "\t<tr><td>3411987</td><td>2025-01-31 23:45:45</td><td>23</td><td>31</td><td>1</td><td>2025</td><td>5</td><td>2025-02-01 00:12:34</td><td> 0</td><td> 1</td><td>2</td><td>2025</td><td>6</td></tr>\n",
              "\t<tr><td>3411988</td><td>2025-01-31 23:30:26</td><td>23</td><td>31</td><td>1</td><td>2025</td><td>5</td><td>2025-01-31 23:36:41</td><td>23</td><td>31</td><td>1</td><td>2025</td><td>5</td></tr>\n",
              "\t<tr><td>3411989</td><td>2025-01-31 23:46:08</td><td>23</td><td>31</td><td>1</td><td>2025</td><td>5</td><td>2025-02-01 00:01:01</td><td> 0</td><td> 1</td><td>2</td><td>2025</td><td>6</td></tr>\n",
              "\t<tr><td>3411990</td><td>2025-01-31 23:26:14</td><td>23</td><td>31</td><td>1</td><td>2025</td><td>5</td><td>2025-01-31 23:35:13</td><td>23</td><td>31</td><td>1</td><td>2025</td><td>5</td></tr>\n",
              "\t<tr><td>3411991</td><td>2025-01-31 23:52:31</td><td>23</td><td>31</td><td>1</td><td>2025</td><td>5</td><td>2025-02-01 00:08:07</td><td> 0</td><td> 1</td><td>2</td><td>2025</td><td>6</td></tr>\n",
              "\t<tr><td>3411992</td><td>2025-01-31 23:40:07</td><td>23</td><td>31</td><td>1</td><td>2025</td><td>5</td><td>2025-01-31 23:48:08</td><td>23</td><td>31</td><td>1</td><td>2025</td><td>5</td></tr>\n",
              "\t<tr><td>3411993</td><td>2025-01-31 23:17:30</td><td>23</td><td>31</td><td>1</td><td>2025</td><td>5</td><td>2025-01-31 23:26:58</td><td>23</td><td>31</td><td>1</td><td>2025</td><td>5</td></tr>\n",
              "\t<tr><td>3411994</td><td>2025-01-31 23:33:05</td><td>23</td><td>31</td><td>1</td><td>2025</td><td>5</td><td>2025-01-31 23:46:21</td><td>23</td><td>31</td><td>1</td><td>2025</td><td>5</td></tr>\n",
              "\t<tr><td>3411995</td><td>2025-01-31 23:43:55</td><td>23</td><td>31</td><td>1</td><td>2025</td><td>5</td><td>2025-01-31 23:48:40</td><td>23</td><td>31</td><td>1</td><td>2025</td><td>5</td></tr>\n",
              "\t<tr><td>3411996</td><td>2025-01-31 23:24:52</td><td>23</td><td>31</td><td>1</td><td>2025</td><td>5</td><td>2025-01-31 23:32:53</td><td>23</td><td>31</td><td>1</td><td>2025</td><td>5</td></tr>\n",
              "\t<tr><td>3411997</td><td>2025-01-31 23:06:34</td><td>23</td><td>31</td><td>1</td><td>2025</td><td>5</td><td>2025-01-31 23:19:12</td><td>23</td><td>31</td><td>1</td><td>2025</td><td>5</td></tr>\n",
              "\t<tr><td>3411998</td><td>2025-01-31 23:50:58</td><td>23</td><td>31</td><td>1</td><td>2025</td><td>5</td><td>2025-02-01 00:06:24</td><td> 0</td><td> 1</td><td>2</td><td>2025</td><td>6</td></tr>\n",
              "\t<tr><td>3411999</td><td>2025-01-31 23:11:42</td><td>23</td><td>31</td><td>1</td><td>2025</td><td>5</td><td>2025-01-31 23:18:30</td><td>23</td><td>31</td><td>1</td><td>2025</td><td>5</td></tr>\n",
              "\t<tr><td>3412000</td><td>2025-01-31 23:32:42</td><td>23</td><td>31</td><td>1</td><td>2025</td><td>5</td><td>2025-01-31 23:41:35</td><td>23</td><td>31</td><td>1</td><td>2025</td><td>5</td></tr>\n",
              "\t<tr><td>3412001</td><td>2025-01-31 23:26:24</td><td>23</td><td>31</td><td>1</td><td>2025</td><td>5</td><td>2025-01-31 23:52:54</td><td>23</td><td>31</td><td>1</td><td>2025</td><td>5</td></tr>\n",
              "\t<tr><td>3412002</td><td>2025-01-31 23:00:46</td><td>23</td><td>31</td><td>1</td><td>2025</td><td>5</td><td>2025-01-31 23:12:08</td><td>23</td><td>31</td><td>1</td><td>2025</td><td>5</td></tr>\n",
              "\t<tr><td>3412003</td><td>2025-01-31 23:23:37</td><td>23</td><td>31</td><td>1</td><td>2025</td><td>5</td><td>2025-01-31 23:37:01</td><td>23</td><td>31</td><td>1</td><td>2025</td><td>5</td></tr>\n",
              "\t<tr><td>3412004</td><td>2025-01-31 23:52:34</td><td>23</td><td>31</td><td>1</td><td>2025</td><td>5</td><td>2025-02-01 00:03:35</td><td> 0</td><td> 1</td><td>2</td><td>2025</td><td>6</td></tr>\n",
              "\t<tr><td>3412005</td><td>2025-01-31 23:32:04</td><td>23</td><td>31</td><td>1</td><td>2025</td><td>5</td><td>2025-01-31 23:44:07</td><td>23</td><td>31</td><td>1</td><td>2025</td><td>5</td></tr>\n",
              "\t<tr><td>3412006</td><td>2025-01-31 23:58:20</td><td>23</td><td>31</td><td>1</td><td>2025</td><td>5</td><td>2025-02-01 00:04:17</td><td> 0</td><td> 1</td><td>2</td><td>2025</td><td>6</td></tr>\n",
              "\t<tr><td>3412007</td><td>2025-01-31 23:38:25</td><td>23</td><td>31</td><td>1</td><td>2025</td><td>5</td><td>2025-01-31 23:46:15</td><td>23</td><td>31</td><td>1</td><td>2025</td><td>5</td></tr>\n",
              "\t<tr><td>3412008</td><td>2025-01-31 23:26:03</td><td>23</td><td>31</td><td>1</td><td>2025</td><td>5</td><td>2025-01-31 23:34:29</td><td>23</td><td>31</td><td>1</td><td>2025</td><td>5</td></tr>\n",
              "\t<tr><td>3412009</td><td>2025-01-31 23:21:00</td><td>23</td><td>31</td><td>1</td><td>2025</td><td>5</td><td>2025-01-31 23:36:00</td><td>23</td><td>31</td><td>1</td><td>2025</td><td>5</td></tr>\n",
              "\t<tr><td>3412010</td><td>2025-01-31 23:26:31</td><td>23</td><td>31</td><td>1</td><td>2025</td><td>5</td><td>2025-01-31 23:40:04</td><td>23</td><td>31</td><td>1</td><td>2025</td><td>5</td></tr>\n",
              "\t<tr><td>3412011</td><td>2025-01-31 23:01:48</td><td>23</td><td>31</td><td>1</td><td>2025</td><td>5</td><td>2025-01-31 23:16:29</td><td>23</td><td>31</td><td>1</td><td>2025</td><td>5</td></tr>\n",
              "\t<tr><td>3412012</td><td>2025-01-31 23:50:29</td><td>23</td><td>31</td><td>1</td><td>2025</td><td>5</td><td>2025-02-01 00:17:27</td><td> 0</td><td> 1</td><td>2</td><td>2025</td><td>6</td></tr>\n",
              "\t<tr><td>3412013</td><td>2025-01-31 23:26:59</td><td>23</td><td>31</td><td>1</td><td>2025</td><td>5</td><td>2025-01-31 23:43:01</td><td>23</td><td>31</td><td>1</td><td>2025</td><td>5</td></tr>\n",
              "\t<tr><td>3412014</td><td>2025-01-31 23:14:34</td><td>23</td><td>31</td><td>1</td><td>2025</td><td>5</td><td>2025-01-31 23:34:52</td><td>23</td><td>31</td><td>1</td><td>2025</td><td>5</td></tr>\n",
              "\t<tr><td>3412015</td><td>2025-01-31 23:56:42</td><td>23</td><td>31</td><td>1</td><td>2025</td><td>5</td><td>2025-02-01 00:07:27</td><td> 0</td><td> 1</td><td>2</td><td>2025</td><td>6</td></tr>\n",
              "</tbody>\n",
              "</table>\n"
            ],
            "text/markdown": "\nA tibble: 3412015 × 13\n\n| datetime_id &lt;int&gt; | tpep_pickup_datetime &lt;dttm&gt; | pick_hour &lt;int&gt; | pick_day &lt;int&gt; | pick_month &lt;dbl&gt; | pick_year &lt;dbl&gt; | pick_weekday &lt;dbl&gt; | tpep_dropoff_datetime &lt;dttm&gt; | drop_hour &lt;int&gt; | drop_day &lt;int&gt; | drop_month &lt;dbl&gt; | drop_year &lt;dbl&gt; | drop_weekday &lt;dbl&gt; |\n|---|---|---|---|---|---|---|---|---|---|---|---|---|\n|  1 | 2025-01-01 00:18:38 | 0 | 1 | 1 | 2025 | 3 | 2025-01-01 00:26:59 | 0 | 1 | 1 | 2025 | 3 |\n|  2 | 2025-01-01 00:32:40 | 0 | 1 | 1 | 2025 | 3 | 2025-01-01 00:35:13 | 0 | 1 | 1 | 2025 | 3 |\n|  3 | 2025-01-01 00:44:04 | 0 | 1 | 1 | 2025 | 3 | 2025-01-01 00:46:01 | 0 | 1 | 1 | 2025 | 3 |\n|  4 | 2025-01-01 00:14:27 | 0 | 1 | 1 | 2025 | 3 | 2025-01-01 00:20:01 | 0 | 1 | 1 | 2025 | 3 |\n|  5 | 2025-01-01 00:21:34 | 0 | 1 | 1 | 2025 | 3 | 2025-01-01 00:25:06 | 0 | 1 | 1 | 2025 | 3 |\n|  6 | 2025-01-01 00:48:24 | 0 | 1 | 1 | 2025 | 3 | 2025-01-01 01:08:26 | 1 | 1 | 1 | 2025 | 3 |\n|  7 | 2025-01-01 00:14:47 | 0 | 1 | 1 | 2025 | 3 | 2025-01-01 00:16:15 | 0 | 1 | 1 | 2025 | 3 |\n|  8 | 2025-01-01 00:39:27 | 0 | 1 | 1 | 2025 | 3 | 2025-01-01 00:51:51 | 0 | 1 | 1 | 2025 | 3 |\n|  9 | 2025-01-01 00:53:43 | 0 | 1 | 1 | 2025 | 3 | 2025-01-01 01:13:23 | 1 | 1 | 1 | 2025 | 3 |\n| 10 | 2025-01-01 00:00:02 | 0 | 1 | 1 | 2025 | 3 | 2025-01-01 00:09:36 | 0 | 1 | 1 | 2025 | 3 |\n| 11 | 2025-01-01 00:20:28 | 0 | 1 | 1 | 2025 | 3 | 2025-01-01 00:28:04 | 0 | 1 | 1 | 2025 | 3 |\n| 12 | 2025-01-01 00:33:58 | 0 | 1 | 1 | 2025 | 3 | 2025-01-01 00:37:23 | 0 | 1 | 1 | 2025 | 3 |\n| 13 | 2025-01-01 00:42:40 | 0 | 1 | 1 | 2025 | 3 | 2025-01-01 00:55:38 | 0 | 1 | 1 | 2025 | 3 |\n| 14 | 2025-01-01 00:30:07 | 0 | 1 | 1 | 2025 | 3 | 2025-01-01 00:36:48 | 0 | 1 | 1 | 2025 | 3 |\n| 15 | 2025-01-01 00:39:55 | 0 | 1 | 1 | 2025 | 3 | 2025-01-01 01:13:59 | 1 | 1 | 1 | 2025 | 3 |\n| 16 | 2025-01-01 00:16:54 | 0 | 1 | 1 | 2025 | 3 | 2025-01-01 00:35:12 | 0 | 1 | 1 | 2025 | 3 |\n| 17 | 2025-01-01 00:43:10 | 0 | 1 | 1 | 2025 | 3 | 2025-01-01 01:00:03 | 1 | 1 | 1 | 2025 | 3 |\n| 18 | 2025-01-01 00:01:41 | 0 | 1 | 1 | 2025 | 3 | 2025-01-01 00:07:14 | 0 | 1 | 1 | 2025 | 3 |\n| 19 | 2025-01-01 00:33:12 | 0 | 1 | 1 | 2025 | 3 | 2025-01-01 00:50:14 | 0 | 1 | 1 | 2025 | 3 |\n| 20 | 2025-01-01 00:05:49 | 0 | 1 | 1 | 2025 | 3 | 2025-01-01 00:20:00 | 0 | 1 | 1 | 2025 | 3 |\n| 21 | 2025-01-01 00:34:40 | 0 | 1 | 1 | 2025 | 3 | 2025-01-01 00:51:19 | 0 | 1 | 1 | 2025 | 3 |\n| 22 | 2025-01-01 00:55:54 | 0 | 1 | 1 | 2025 | 3 | 2025-01-01 01:00:38 | 1 | 1 | 1 | 2025 | 3 |\n| 23 | 2025-01-01 00:17:44 | 0 | 1 | 1 | 2025 | 3 | 2025-01-01 00:22:52 | 0 | 1 | 1 | 2025 | 3 |\n| 24 | 2025-01-01 00:37:13 | 0 | 1 | 1 | 2025 | 3 | 2025-01-01 00:43:23 | 0 | 1 | 1 | 2025 | 3 |\n| 25 | 2025-01-01 00:48:06 | 0 | 1 | 1 | 2025 | 3 | 2025-01-01 00:53:23 | 0 | 1 | 1 | 2025 | 3 |\n| 26 | 2025-01-01 00:14:14 | 0 | 1 | 1 | 2025 | 3 | 2025-01-01 00:22:46 | 0 | 1 | 1 | 2025 | 3 |\n| 27 | 2025-01-01 00:32:01 | 0 | 1 | 1 | 2025 | 3 | 2025-01-01 00:46:43 | 0 | 1 | 1 | 2025 | 3 |\n| 28 | 2025-01-01 00:00:37 | 0 | 1 | 1 | 2025 | 3 | 2025-01-01 00:04:46 | 0 | 1 | 1 | 2025 | 3 |\n| 29 | 2025-01-01 00:11:07 | 0 | 1 | 1 | 2025 | 3 | 2025-01-01 00:23:29 | 0 | 1 | 1 | 2025 | 3 |\n| 30 | 2025-01-01 00:14:54 | 0 | 1 | 1 | 2025 | 3 | 2025-01-01 00:53:29 | 0 | 1 | 1 | 2025 | 3 |\n| ⋮ | ⋮ | ⋮ | ⋮ | ⋮ | ⋮ | ⋮ | ⋮ | ⋮ | ⋮ | ⋮ | ⋮ | ⋮ |\n| 3411986 | 2025-01-31 23:04:29 | 23 | 31 | 1 | 2025 | 5 | 2025-01-31 23:18:11 | 23 | 31 | 1 | 2025 | 5 |\n| 3411987 | 2025-01-31 23:45:45 | 23 | 31 | 1 | 2025 | 5 | 2025-02-01 00:12:34 |  0 |  1 | 2 | 2025 | 6 |\n| 3411988 | 2025-01-31 23:30:26 | 23 | 31 | 1 | 2025 | 5 | 2025-01-31 23:36:41 | 23 | 31 | 1 | 2025 | 5 |\n| 3411989 | 2025-01-31 23:46:08 | 23 | 31 | 1 | 2025 | 5 | 2025-02-01 00:01:01 |  0 |  1 | 2 | 2025 | 6 |\n| 3411990 | 2025-01-31 23:26:14 | 23 | 31 | 1 | 2025 | 5 | 2025-01-31 23:35:13 | 23 | 31 | 1 | 2025 | 5 |\n| 3411991 | 2025-01-31 23:52:31 | 23 | 31 | 1 | 2025 | 5 | 2025-02-01 00:08:07 |  0 |  1 | 2 | 2025 | 6 |\n| 3411992 | 2025-01-31 23:40:07 | 23 | 31 | 1 | 2025 | 5 | 2025-01-31 23:48:08 | 23 | 31 | 1 | 2025 | 5 |\n| 3411993 | 2025-01-31 23:17:30 | 23 | 31 | 1 | 2025 | 5 | 2025-01-31 23:26:58 | 23 | 31 | 1 | 2025 | 5 |\n| 3411994 | 2025-01-31 23:33:05 | 23 | 31 | 1 | 2025 | 5 | 2025-01-31 23:46:21 | 23 | 31 | 1 | 2025 | 5 |\n| 3411995 | 2025-01-31 23:43:55 | 23 | 31 | 1 | 2025 | 5 | 2025-01-31 23:48:40 | 23 | 31 | 1 | 2025 | 5 |\n| 3411996 | 2025-01-31 23:24:52 | 23 | 31 | 1 | 2025 | 5 | 2025-01-31 23:32:53 | 23 | 31 | 1 | 2025 | 5 |\n| 3411997 | 2025-01-31 23:06:34 | 23 | 31 | 1 | 2025 | 5 | 2025-01-31 23:19:12 | 23 | 31 | 1 | 2025 | 5 |\n| 3411998 | 2025-01-31 23:50:58 | 23 | 31 | 1 | 2025 | 5 | 2025-02-01 00:06:24 |  0 |  1 | 2 | 2025 | 6 |\n| 3411999 | 2025-01-31 23:11:42 | 23 | 31 | 1 | 2025 | 5 | 2025-01-31 23:18:30 | 23 | 31 | 1 | 2025 | 5 |\n| 3412000 | 2025-01-31 23:32:42 | 23 | 31 | 1 | 2025 | 5 | 2025-01-31 23:41:35 | 23 | 31 | 1 | 2025 | 5 |\n| 3412001 | 2025-01-31 23:26:24 | 23 | 31 | 1 | 2025 | 5 | 2025-01-31 23:52:54 | 23 | 31 | 1 | 2025 | 5 |\n| 3412002 | 2025-01-31 23:00:46 | 23 | 31 | 1 | 2025 | 5 | 2025-01-31 23:12:08 | 23 | 31 | 1 | 2025 | 5 |\n| 3412003 | 2025-01-31 23:23:37 | 23 | 31 | 1 | 2025 | 5 | 2025-01-31 23:37:01 | 23 | 31 | 1 | 2025 | 5 |\n| 3412004 | 2025-01-31 23:52:34 | 23 | 31 | 1 | 2025 | 5 | 2025-02-01 00:03:35 |  0 |  1 | 2 | 2025 | 6 |\n| 3412005 | 2025-01-31 23:32:04 | 23 | 31 | 1 | 2025 | 5 | 2025-01-31 23:44:07 | 23 | 31 | 1 | 2025 | 5 |\n| 3412006 | 2025-01-31 23:58:20 | 23 | 31 | 1 | 2025 | 5 | 2025-02-01 00:04:17 |  0 |  1 | 2 | 2025 | 6 |\n| 3412007 | 2025-01-31 23:38:25 | 23 | 31 | 1 | 2025 | 5 | 2025-01-31 23:46:15 | 23 | 31 | 1 | 2025 | 5 |\n| 3412008 | 2025-01-31 23:26:03 | 23 | 31 | 1 | 2025 | 5 | 2025-01-31 23:34:29 | 23 | 31 | 1 | 2025 | 5 |\n| 3412009 | 2025-01-31 23:21:00 | 23 | 31 | 1 | 2025 | 5 | 2025-01-31 23:36:00 | 23 | 31 | 1 | 2025 | 5 |\n| 3412010 | 2025-01-31 23:26:31 | 23 | 31 | 1 | 2025 | 5 | 2025-01-31 23:40:04 | 23 | 31 | 1 | 2025 | 5 |\n| 3412011 | 2025-01-31 23:01:48 | 23 | 31 | 1 | 2025 | 5 | 2025-01-31 23:16:29 | 23 | 31 | 1 | 2025 | 5 |\n| 3412012 | 2025-01-31 23:50:29 | 23 | 31 | 1 | 2025 | 5 | 2025-02-01 00:17:27 |  0 |  1 | 2 | 2025 | 6 |\n| 3412013 | 2025-01-31 23:26:59 | 23 | 31 | 1 | 2025 | 5 | 2025-01-31 23:43:01 | 23 | 31 | 1 | 2025 | 5 |\n| 3412014 | 2025-01-31 23:14:34 | 23 | 31 | 1 | 2025 | 5 | 2025-01-31 23:34:52 | 23 | 31 | 1 | 2025 | 5 |\n| 3412015 | 2025-01-31 23:56:42 | 23 | 31 | 1 | 2025 | 5 | 2025-02-01 00:07:27 |  0 |  1 | 2 | 2025 | 6 |\n\n",
            "text/latex": "A tibble: 3412015 × 13\n\\begin{tabular}{lllllllllllll}\n datetime\\_id & tpep\\_pickup\\_datetime & pick\\_hour & pick\\_day & pick\\_month & pick\\_year & pick\\_weekday & tpep\\_dropoff\\_datetime & drop\\_hour & drop\\_day & drop\\_month & drop\\_year & drop\\_weekday\\\\\n <int> & <dttm> & <int> & <int> & <dbl> & <dbl> & <dbl> & <dttm> & <int> & <int> & <dbl> & <dbl> & <dbl>\\\\\n\\hline\n\t  1 & 2025-01-01 00:18:38 & 0 & 1 & 1 & 2025 & 3 & 2025-01-01 00:26:59 & 0 & 1 & 1 & 2025 & 3\\\\\n\t  2 & 2025-01-01 00:32:40 & 0 & 1 & 1 & 2025 & 3 & 2025-01-01 00:35:13 & 0 & 1 & 1 & 2025 & 3\\\\\n\t  3 & 2025-01-01 00:44:04 & 0 & 1 & 1 & 2025 & 3 & 2025-01-01 00:46:01 & 0 & 1 & 1 & 2025 & 3\\\\\n\t  4 & 2025-01-01 00:14:27 & 0 & 1 & 1 & 2025 & 3 & 2025-01-01 00:20:01 & 0 & 1 & 1 & 2025 & 3\\\\\n\t  5 & 2025-01-01 00:21:34 & 0 & 1 & 1 & 2025 & 3 & 2025-01-01 00:25:06 & 0 & 1 & 1 & 2025 & 3\\\\\n\t  6 & 2025-01-01 00:48:24 & 0 & 1 & 1 & 2025 & 3 & 2025-01-01 01:08:26 & 1 & 1 & 1 & 2025 & 3\\\\\n\t  7 & 2025-01-01 00:14:47 & 0 & 1 & 1 & 2025 & 3 & 2025-01-01 00:16:15 & 0 & 1 & 1 & 2025 & 3\\\\\n\t  8 & 2025-01-01 00:39:27 & 0 & 1 & 1 & 2025 & 3 & 2025-01-01 00:51:51 & 0 & 1 & 1 & 2025 & 3\\\\\n\t  9 & 2025-01-01 00:53:43 & 0 & 1 & 1 & 2025 & 3 & 2025-01-01 01:13:23 & 1 & 1 & 1 & 2025 & 3\\\\\n\t 10 & 2025-01-01 00:00:02 & 0 & 1 & 1 & 2025 & 3 & 2025-01-01 00:09:36 & 0 & 1 & 1 & 2025 & 3\\\\\n\t 11 & 2025-01-01 00:20:28 & 0 & 1 & 1 & 2025 & 3 & 2025-01-01 00:28:04 & 0 & 1 & 1 & 2025 & 3\\\\\n\t 12 & 2025-01-01 00:33:58 & 0 & 1 & 1 & 2025 & 3 & 2025-01-01 00:37:23 & 0 & 1 & 1 & 2025 & 3\\\\\n\t 13 & 2025-01-01 00:42:40 & 0 & 1 & 1 & 2025 & 3 & 2025-01-01 00:55:38 & 0 & 1 & 1 & 2025 & 3\\\\\n\t 14 & 2025-01-01 00:30:07 & 0 & 1 & 1 & 2025 & 3 & 2025-01-01 00:36:48 & 0 & 1 & 1 & 2025 & 3\\\\\n\t 15 & 2025-01-01 00:39:55 & 0 & 1 & 1 & 2025 & 3 & 2025-01-01 01:13:59 & 1 & 1 & 1 & 2025 & 3\\\\\n\t 16 & 2025-01-01 00:16:54 & 0 & 1 & 1 & 2025 & 3 & 2025-01-01 00:35:12 & 0 & 1 & 1 & 2025 & 3\\\\\n\t 17 & 2025-01-01 00:43:10 & 0 & 1 & 1 & 2025 & 3 & 2025-01-01 01:00:03 & 1 & 1 & 1 & 2025 & 3\\\\\n\t 18 & 2025-01-01 00:01:41 & 0 & 1 & 1 & 2025 & 3 & 2025-01-01 00:07:14 & 0 & 1 & 1 & 2025 & 3\\\\\n\t 19 & 2025-01-01 00:33:12 & 0 & 1 & 1 & 2025 & 3 & 2025-01-01 00:50:14 & 0 & 1 & 1 & 2025 & 3\\\\\n\t 20 & 2025-01-01 00:05:49 & 0 & 1 & 1 & 2025 & 3 & 2025-01-01 00:20:00 & 0 & 1 & 1 & 2025 & 3\\\\\n\t 21 & 2025-01-01 00:34:40 & 0 & 1 & 1 & 2025 & 3 & 2025-01-01 00:51:19 & 0 & 1 & 1 & 2025 & 3\\\\\n\t 22 & 2025-01-01 00:55:54 & 0 & 1 & 1 & 2025 & 3 & 2025-01-01 01:00:38 & 1 & 1 & 1 & 2025 & 3\\\\\n\t 23 & 2025-01-01 00:17:44 & 0 & 1 & 1 & 2025 & 3 & 2025-01-01 00:22:52 & 0 & 1 & 1 & 2025 & 3\\\\\n\t 24 & 2025-01-01 00:37:13 & 0 & 1 & 1 & 2025 & 3 & 2025-01-01 00:43:23 & 0 & 1 & 1 & 2025 & 3\\\\\n\t 25 & 2025-01-01 00:48:06 & 0 & 1 & 1 & 2025 & 3 & 2025-01-01 00:53:23 & 0 & 1 & 1 & 2025 & 3\\\\\n\t 26 & 2025-01-01 00:14:14 & 0 & 1 & 1 & 2025 & 3 & 2025-01-01 00:22:46 & 0 & 1 & 1 & 2025 & 3\\\\\n\t 27 & 2025-01-01 00:32:01 & 0 & 1 & 1 & 2025 & 3 & 2025-01-01 00:46:43 & 0 & 1 & 1 & 2025 & 3\\\\\n\t 28 & 2025-01-01 00:00:37 & 0 & 1 & 1 & 2025 & 3 & 2025-01-01 00:04:46 & 0 & 1 & 1 & 2025 & 3\\\\\n\t 29 & 2025-01-01 00:11:07 & 0 & 1 & 1 & 2025 & 3 & 2025-01-01 00:23:29 & 0 & 1 & 1 & 2025 & 3\\\\\n\t 30 & 2025-01-01 00:14:54 & 0 & 1 & 1 & 2025 & 3 & 2025-01-01 00:53:29 & 0 & 1 & 1 & 2025 & 3\\\\\n\t ⋮ & ⋮ & ⋮ & ⋮ & ⋮ & ⋮ & ⋮ & ⋮ & ⋮ & ⋮ & ⋮ & ⋮ & ⋮\\\\\n\t 3411986 & 2025-01-31 23:04:29 & 23 & 31 & 1 & 2025 & 5 & 2025-01-31 23:18:11 & 23 & 31 & 1 & 2025 & 5\\\\\n\t 3411987 & 2025-01-31 23:45:45 & 23 & 31 & 1 & 2025 & 5 & 2025-02-01 00:12:34 &  0 &  1 & 2 & 2025 & 6\\\\\n\t 3411988 & 2025-01-31 23:30:26 & 23 & 31 & 1 & 2025 & 5 & 2025-01-31 23:36:41 & 23 & 31 & 1 & 2025 & 5\\\\\n\t 3411989 & 2025-01-31 23:46:08 & 23 & 31 & 1 & 2025 & 5 & 2025-02-01 00:01:01 &  0 &  1 & 2 & 2025 & 6\\\\\n\t 3411990 & 2025-01-31 23:26:14 & 23 & 31 & 1 & 2025 & 5 & 2025-01-31 23:35:13 & 23 & 31 & 1 & 2025 & 5\\\\\n\t 3411991 & 2025-01-31 23:52:31 & 23 & 31 & 1 & 2025 & 5 & 2025-02-01 00:08:07 &  0 &  1 & 2 & 2025 & 6\\\\\n\t 3411992 & 2025-01-31 23:40:07 & 23 & 31 & 1 & 2025 & 5 & 2025-01-31 23:48:08 & 23 & 31 & 1 & 2025 & 5\\\\\n\t 3411993 & 2025-01-31 23:17:30 & 23 & 31 & 1 & 2025 & 5 & 2025-01-31 23:26:58 & 23 & 31 & 1 & 2025 & 5\\\\\n\t 3411994 & 2025-01-31 23:33:05 & 23 & 31 & 1 & 2025 & 5 & 2025-01-31 23:46:21 & 23 & 31 & 1 & 2025 & 5\\\\\n\t 3411995 & 2025-01-31 23:43:55 & 23 & 31 & 1 & 2025 & 5 & 2025-01-31 23:48:40 & 23 & 31 & 1 & 2025 & 5\\\\\n\t 3411996 & 2025-01-31 23:24:52 & 23 & 31 & 1 & 2025 & 5 & 2025-01-31 23:32:53 & 23 & 31 & 1 & 2025 & 5\\\\\n\t 3411997 & 2025-01-31 23:06:34 & 23 & 31 & 1 & 2025 & 5 & 2025-01-31 23:19:12 & 23 & 31 & 1 & 2025 & 5\\\\\n\t 3411998 & 2025-01-31 23:50:58 & 23 & 31 & 1 & 2025 & 5 & 2025-02-01 00:06:24 &  0 &  1 & 2 & 2025 & 6\\\\\n\t 3411999 & 2025-01-31 23:11:42 & 23 & 31 & 1 & 2025 & 5 & 2025-01-31 23:18:30 & 23 & 31 & 1 & 2025 & 5\\\\\n\t 3412000 & 2025-01-31 23:32:42 & 23 & 31 & 1 & 2025 & 5 & 2025-01-31 23:41:35 & 23 & 31 & 1 & 2025 & 5\\\\\n\t 3412001 & 2025-01-31 23:26:24 & 23 & 31 & 1 & 2025 & 5 & 2025-01-31 23:52:54 & 23 & 31 & 1 & 2025 & 5\\\\\n\t 3412002 & 2025-01-31 23:00:46 & 23 & 31 & 1 & 2025 & 5 & 2025-01-31 23:12:08 & 23 & 31 & 1 & 2025 & 5\\\\\n\t 3412003 & 2025-01-31 23:23:37 & 23 & 31 & 1 & 2025 & 5 & 2025-01-31 23:37:01 & 23 & 31 & 1 & 2025 & 5\\\\\n\t 3412004 & 2025-01-31 23:52:34 & 23 & 31 & 1 & 2025 & 5 & 2025-02-01 00:03:35 &  0 &  1 & 2 & 2025 & 6\\\\\n\t 3412005 & 2025-01-31 23:32:04 & 23 & 31 & 1 & 2025 & 5 & 2025-01-31 23:44:07 & 23 & 31 & 1 & 2025 & 5\\\\\n\t 3412006 & 2025-01-31 23:58:20 & 23 & 31 & 1 & 2025 & 5 & 2025-02-01 00:04:17 &  0 &  1 & 2 & 2025 & 6\\\\\n\t 3412007 & 2025-01-31 23:38:25 & 23 & 31 & 1 & 2025 & 5 & 2025-01-31 23:46:15 & 23 & 31 & 1 & 2025 & 5\\\\\n\t 3412008 & 2025-01-31 23:26:03 & 23 & 31 & 1 & 2025 & 5 & 2025-01-31 23:34:29 & 23 & 31 & 1 & 2025 & 5\\\\\n\t 3412009 & 2025-01-31 23:21:00 & 23 & 31 & 1 & 2025 & 5 & 2025-01-31 23:36:00 & 23 & 31 & 1 & 2025 & 5\\\\\n\t 3412010 & 2025-01-31 23:26:31 & 23 & 31 & 1 & 2025 & 5 & 2025-01-31 23:40:04 & 23 & 31 & 1 & 2025 & 5\\\\\n\t 3412011 & 2025-01-31 23:01:48 & 23 & 31 & 1 & 2025 & 5 & 2025-01-31 23:16:29 & 23 & 31 & 1 & 2025 & 5\\\\\n\t 3412012 & 2025-01-31 23:50:29 & 23 & 31 & 1 & 2025 & 5 & 2025-02-01 00:17:27 &  0 &  1 & 2 & 2025 & 6\\\\\n\t 3412013 & 2025-01-31 23:26:59 & 23 & 31 & 1 & 2025 & 5 & 2025-01-31 23:43:01 & 23 & 31 & 1 & 2025 & 5\\\\\n\t 3412014 & 2025-01-31 23:14:34 & 23 & 31 & 1 & 2025 & 5 & 2025-01-31 23:34:52 & 23 & 31 & 1 & 2025 & 5\\\\\n\t 3412015 & 2025-01-31 23:56:42 & 23 & 31 & 1 & 2025 & 5 & 2025-02-01 00:07:27 &  0 &  1 & 2 & 2025 & 6\\\\\n\\end{tabular}\n",
            "text/plain": [
              "        datetime_id tpep_pickup_datetime pick_hour pick_day pick_month\n",
              "1        1          2025-01-01 00:18:38  0         1        1         \n",
              "2        2          2025-01-01 00:32:40  0         1        1         \n",
              "3        3          2025-01-01 00:44:04  0         1        1         \n",
              "4        4          2025-01-01 00:14:27  0         1        1         \n",
              "5        5          2025-01-01 00:21:34  0         1        1         \n",
              "6        6          2025-01-01 00:48:24  0         1        1         \n",
              "7        7          2025-01-01 00:14:47  0         1        1         \n",
              "8        8          2025-01-01 00:39:27  0         1        1         \n",
              "9        9          2025-01-01 00:53:43  0         1        1         \n",
              "10      10          2025-01-01 00:00:02  0         1        1         \n",
              "11      11          2025-01-01 00:20:28  0         1        1         \n",
              "12      12          2025-01-01 00:33:58  0         1        1         \n",
              "13      13          2025-01-01 00:42:40  0         1        1         \n",
              "14      14          2025-01-01 00:30:07  0         1        1         \n",
              "15      15          2025-01-01 00:39:55  0         1        1         \n",
              "16      16          2025-01-01 00:16:54  0         1        1         \n",
              "17      17          2025-01-01 00:43:10  0         1        1         \n",
              "18      18          2025-01-01 00:01:41  0         1        1         \n",
              "19      19          2025-01-01 00:33:12  0         1        1         \n",
              "20      20          2025-01-01 00:05:49  0         1        1         \n",
              "21      21          2025-01-01 00:34:40  0         1        1         \n",
              "22      22          2025-01-01 00:55:54  0         1        1         \n",
              "23      23          2025-01-01 00:17:44  0         1        1         \n",
              "24      24          2025-01-01 00:37:13  0         1        1         \n",
              "25      25          2025-01-01 00:48:06  0         1        1         \n",
              "26      26          2025-01-01 00:14:14  0         1        1         \n",
              "27      27          2025-01-01 00:32:01  0         1        1         \n",
              "28      28          2025-01-01 00:00:37  0         1        1         \n",
              "29      29          2025-01-01 00:11:07  0         1        1         \n",
              "30      30          2025-01-01 00:14:54  0         1        1         \n",
              "⋮       ⋮           ⋮                    ⋮         ⋮        ⋮         \n",
              "3411986 3411986     2025-01-31 23:04:29  23        31       1         \n",
              "3411987 3411987     2025-01-31 23:45:45  23        31       1         \n",
              "3411988 3411988     2025-01-31 23:30:26  23        31       1         \n",
              "3411989 3411989     2025-01-31 23:46:08  23        31       1         \n",
              "3411990 3411990     2025-01-31 23:26:14  23        31       1         \n",
              "3411991 3411991     2025-01-31 23:52:31  23        31       1         \n",
              "3411992 3411992     2025-01-31 23:40:07  23        31       1         \n",
              "3411993 3411993     2025-01-31 23:17:30  23        31       1         \n",
              "3411994 3411994     2025-01-31 23:33:05  23        31       1         \n",
              "3411995 3411995     2025-01-31 23:43:55  23        31       1         \n",
              "3411996 3411996     2025-01-31 23:24:52  23        31       1         \n",
              "3411997 3411997     2025-01-31 23:06:34  23        31       1         \n",
              "3411998 3411998     2025-01-31 23:50:58  23        31       1         \n",
              "3411999 3411999     2025-01-31 23:11:42  23        31       1         \n",
              "3412000 3412000     2025-01-31 23:32:42  23        31       1         \n",
              "3412001 3412001     2025-01-31 23:26:24  23        31       1         \n",
              "3412002 3412002     2025-01-31 23:00:46  23        31       1         \n",
              "3412003 3412003     2025-01-31 23:23:37  23        31       1         \n",
              "3412004 3412004     2025-01-31 23:52:34  23        31       1         \n",
              "3412005 3412005     2025-01-31 23:32:04  23        31       1         \n",
              "3412006 3412006     2025-01-31 23:58:20  23        31       1         \n",
              "3412007 3412007     2025-01-31 23:38:25  23        31       1         \n",
              "3412008 3412008     2025-01-31 23:26:03  23        31       1         \n",
              "3412009 3412009     2025-01-31 23:21:00  23        31       1         \n",
              "3412010 3412010     2025-01-31 23:26:31  23        31       1         \n",
              "3412011 3412011     2025-01-31 23:01:48  23        31       1         \n",
              "3412012 3412012     2025-01-31 23:50:29  23        31       1         \n",
              "3412013 3412013     2025-01-31 23:26:59  23        31       1         \n",
              "3412014 3412014     2025-01-31 23:14:34  23        31       1         \n",
              "3412015 3412015     2025-01-31 23:56:42  23        31       1         \n",
              "        pick_year pick_weekday tpep_dropoff_datetime drop_hour drop_day\n",
              "1       2025      3            2025-01-01 00:26:59   0         1       \n",
              "2       2025      3            2025-01-01 00:35:13   0         1       \n",
              "3       2025      3            2025-01-01 00:46:01   0         1       \n",
              "4       2025      3            2025-01-01 00:20:01   0         1       \n",
              "5       2025      3            2025-01-01 00:25:06   0         1       \n",
              "6       2025      3            2025-01-01 01:08:26   1         1       \n",
              "7       2025      3            2025-01-01 00:16:15   0         1       \n",
              "8       2025      3            2025-01-01 00:51:51   0         1       \n",
              "9       2025      3            2025-01-01 01:13:23   1         1       \n",
              "10      2025      3            2025-01-01 00:09:36   0         1       \n",
              "11      2025      3            2025-01-01 00:28:04   0         1       \n",
              "12      2025      3            2025-01-01 00:37:23   0         1       \n",
              "13      2025      3            2025-01-01 00:55:38   0         1       \n",
              "14      2025      3            2025-01-01 00:36:48   0         1       \n",
              "15      2025      3            2025-01-01 01:13:59   1         1       \n",
              "16      2025      3            2025-01-01 00:35:12   0         1       \n",
              "17      2025      3            2025-01-01 01:00:03   1         1       \n",
              "18      2025      3            2025-01-01 00:07:14   0         1       \n",
              "19      2025      3            2025-01-01 00:50:14   0         1       \n",
              "20      2025      3            2025-01-01 00:20:00   0         1       \n",
              "21      2025      3            2025-01-01 00:51:19   0         1       \n",
              "22      2025      3            2025-01-01 01:00:38   1         1       \n",
              "23      2025      3            2025-01-01 00:22:52   0         1       \n",
              "24      2025      3            2025-01-01 00:43:23   0         1       \n",
              "25      2025      3            2025-01-01 00:53:23   0         1       \n",
              "26      2025      3            2025-01-01 00:22:46   0         1       \n",
              "27      2025      3            2025-01-01 00:46:43   0         1       \n",
              "28      2025      3            2025-01-01 00:04:46   0         1       \n",
              "29      2025      3            2025-01-01 00:23:29   0         1       \n",
              "30      2025      3            2025-01-01 00:53:29   0         1       \n",
              "⋮       ⋮         ⋮            ⋮                     ⋮         ⋮       \n",
              "3411986 2025      5            2025-01-31 23:18:11   23        31      \n",
              "3411987 2025      5            2025-02-01 00:12:34    0         1      \n",
              "3411988 2025      5            2025-01-31 23:36:41   23        31      \n",
              "3411989 2025      5            2025-02-01 00:01:01    0         1      \n",
              "3411990 2025      5            2025-01-31 23:35:13   23        31      \n",
              "3411991 2025      5            2025-02-01 00:08:07    0         1      \n",
              "3411992 2025      5            2025-01-31 23:48:08   23        31      \n",
              "3411993 2025      5            2025-01-31 23:26:58   23        31      \n",
              "3411994 2025      5            2025-01-31 23:46:21   23        31      \n",
              "3411995 2025      5            2025-01-31 23:48:40   23        31      \n",
              "3411996 2025      5            2025-01-31 23:32:53   23        31      \n",
              "3411997 2025      5            2025-01-31 23:19:12   23        31      \n",
              "3411998 2025      5            2025-02-01 00:06:24    0         1      \n",
              "3411999 2025      5            2025-01-31 23:18:30   23        31      \n",
              "3412000 2025      5            2025-01-31 23:41:35   23        31      \n",
              "3412001 2025      5            2025-01-31 23:52:54   23        31      \n",
              "3412002 2025      5            2025-01-31 23:12:08   23        31      \n",
              "3412003 2025      5            2025-01-31 23:37:01   23        31      \n",
              "3412004 2025      5            2025-02-01 00:03:35    0         1      \n",
              "3412005 2025      5            2025-01-31 23:44:07   23        31      \n",
              "3412006 2025      5            2025-02-01 00:04:17    0         1      \n",
              "3412007 2025      5            2025-01-31 23:46:15   23        31      \n",
              "3412008 2025      5            2025-01-31 23:34:29   23        31      \n",
              "3412009 2025      5            2025-01-31 23:36:00   23        31      \n",
              "3412010 2025      5            2025-01-31 23:40:04   23        31      \n",
              "3412011 2025      5            2025-01-31 23:16:29   23        31      \n",
              "3412012 2025      5            2025-02-01 00:17:27    0         1      \n",
              "3412013 2025      5            2025-01-31 23:43:01   23        31      \n",
              "3412014 2025      5            2025-01-31 23:34:52   23        31      \n",
              "3412015 2025      5            2025-02-01 00:07:27    0         1      \n",
              "        drop_month drop_year drop_weekday\n",
              "1       1          2025      3           \n",
              "2       1          2025      3           \n",
              "3       1          2025      3           \n",
              "4       1          2025      3           \n",
              "5       1          2025      3           \n",
              "6       1          2025      3           \n",
              "7       1          2025      3           \n",
              "8       1          2025      3           \n",
              "9       1          2025      3           \n",
              "10      1          2025      3           \n",
              "11      1          2025      3           \n",
              "12      1          2025      3           \n",
              "13      1          2025      3           \n",
              "14      1          2025      3           \n",
              "15      1          2025      3           \n",
              "16      1          2025      3           \n",
              "17      1          2025      3           \n",
              "18      1          2025      3           \n",
              "19      1          2025      3           \n",
              "20      1          2025      3           \n",
              "21      1          2025      3           \n",
              "22      1          2025      3           \n",
              "23      1          2025      3           \n",
              "24      1          2025      3           \n",
              "25      1          2025      3           \n",
              "26      1          2025      3           \n",
              "27      1          2025      3           \n",
              "28      1          2025      3           \n",
              "29      1          2025      3           \n",
              "30      1          2025      3           \n",
              "⋮       ⋮          ⋮         ⋮           \n",
              "3411986 1          2025      5           \n",
              "3411987 2          2025      6           \n",
              "3411988 1          2025      5           \n",
              "3411989 2          2025      6           \n",
              "3411990 1          2025      5           \n",
              "3411991 2          2025      6           \n",
              "3411992 1          2025      5           \n",
              "3411993 1          2025      5           \n",
              "3411994 1          2025      5           \n",
              "3411995 1          2025      5           \n",
              "3411996 1          2025      5           \n",
              "3411997 1          2025      5           \n",
              "3411998 2          2025      6           \n",
              "3411999 1          2025      5           \n",
              "3412000 1          2025      5           \n",
              "3412001 1          2025      5           \n",
              "3412002 1          2025      5           \n",
              "3412003 1          2025      5           \n",
              "3412004 2          2025      6           \n",
              "3412005 1          2025      5           \n",
              "3412006 2          2025      6           \n",
              "3412007 1          2025      5           \n",
              "3412008 1          2025      5           \n",
              "3412009 1          2025      5           \n",
              "3412010 1          2025      5           \n",
              "3412011 1          2025      5           \n",
              "3412012 2          2025      6           \n",
              "3412013 1          2025      5           \n",
              "3412014 1          2025      5           \n",
              "3412015 2          2025      6           "
            ]
          },
          "metadata": {}
        }
      ]
    },
    {
      "cell_type": "code",
      "source": [
        "# Passenger count dimension\n",
        "passenger_count_dim <- df %>%\n",
        "  select(passenger_count) %>%\n",
        "  distinct() %>%\n",
        "  mutate(passenger_count_id = row_number()) %>%\n",
        "  select(passenger_count_id, passenger_count)"
      ],
      "metadata": {
        "id": "e1U8zYACXjRO"
      },
      "execution_count": 225,
      "outputs": []
    },
    {
      "cell_type": "code",
      "source": [
        "head(passenger_count_dim)"
      ],
      "metadata": {
        "colab": {
          "base_uri": "https://localhost:8080/",
          "height": 286
        },
        "id": "70kfRdTCXsU4",
        "outputId": "55ca60ba-3832-409b-e018-60cc84dcbe2b"
      },
      "execution_count": 226,
      "outputs": [
        {
          "output_type": "display_data",
          "data": {
            "text/html": [
              "<table class=\"dataframe\">\n",
              "<caption>A tibble: 6 × 2</caption>\n",
              "<thead>\n",
              "\t<tr><th scope=col>passenger_count_id</th><th scope=col>passenger_count</th></tr>\n",
              "\t<tr><th scope=col>&lt;int&gt;</th><th scope=col>&lt;int&gt;</th></tr>\n",
              "</thead>\n",
              "<tbody>\n",
              "\t<tr><td>1</td><td>1</td></tr>\n",
              "\t<tr><td>2</td><td>3</td></tr>\n",
              "\t<tr><td>3</td><td>2</td></tr>\n",
              "\t<tr><td>4</td><td>0</td></tr>\n",
              "\t<tr><td>5</td><td>4</td></tr>\n",
              "\t<tr><td>6</td><td>9</td></tr>\n",
              "</tbody>\n",
              "</table>\n"
            ],
            "text/markdown": "\nA tibble: 6 × 2\n\n| passenger_count_id &lt;int&gt; | passenger_count &lt;int&gt; |\n|---|---|\n| 1 | 1 |\n| 2 | 3 |\n| 3 | 2 |\n| 4 | 0 |\n| 5 | 4 |\n| 6 | 9 |\n\n",
            "text/latex": "A tibble: 6 × 2\n\\begin{tabular}{ll}\n passenger\\_count\\_id & passenger\\_count\\\\\n <int> & <int>\\\\\n\\hline\n\t 1 & 1\\\\\n\t 2 & 3\\\\\n\t 3 & 2\\\\\n\t 4 & 0\\\\\n\t 5 & 4\\\\\n\t 6 & 9\\\\\n\\end{tabular}\n",
            "text/plain": [
              "  passenger_count_id passenger_count\n",
              "1 1                  1              \n",
              "2 2                  3              \n",
              "3 3                  2              \n",
              "4 4                  0              \n",
              "5 5                  4              \n",
              "6 6                  9              "
            ]
          },
          "metadata": {}
        }
      ]
    },
    {
      "cell_type": "code",
      "source": [
        "# Trip distance dimension\n",
        "trip_distance_dim <- df %>%\n",
        "  select(trip_distance) %>%\n",
        "  distinct() %>%\n",
        "  mutate(trip_distance_id = row_number()) %>%\n",
        "  select(trip_distance_id, trip_distance)"
      ],
      "metadata": {
        "id": "tzqvnk1OXzVy"
      },
      "execution_count": 227,
      "outputs": []
    },
    {
      "cell_type": "code",
      "source": [
        "head(trip_distance_dim)"
      ],
      "metadata": {
        "colab": {
          "base_uri": "https://localhost:8080/",
          "height": 286
        },
        "id": "FbL4kYw2X3Cr",
        "outputId": "759e52aa-58be-4f13-b151-03d826007f8f"
      },
      "execution_count": 228,
      "outputs": [
        {
          "output_type": "display_data",
          "data": {
            "text/html": [
              "<table class=\"dataframe\">\n",
              "<caption>A tibble: 6 × 2</caption>\n",
              "<thead>\n",
              "\t<tr><th scope=col>trip_distance_id</th><th scope=col>trip_distance</th></tr>\n",
              "\t<tr><th scope=col>&lt;int&gt;</th><th scope=col>&lt;dbl&gt;</th></tr>\n",
              "</thead>\n",
              "<tbody>\n",
              "\t<tr><td>1</td><td>1.60</td></tr>\n",
              "\t<tr><td>2</td><td>0.50</td></tr>\n",
              "\t<tr><td>3</td><td>0.60</td></tr>\n",
              "\t<tr><td>4</td><td>0.52</td></tr>\n",
              "\t<tr><td>5</td><td>0.66</td></tr>\n",
              "\t<tr><td>6</td><td>2.63</td></tr>\n",
              "</tbody>\n",
              "</table>\n"
            ],
            "text/markdown": "\nA tibble: 6 × 2\n\n| trip_distance_id &lt;int&gt; | trip_distance &lt;dbl&gt; |\n|---|---|\n| 1 | 1.60 |\n| 2 | 0.50 |\n| 3 | 0.60 |\n| 4 | 0.52 |\n| 5 | 0.66 |\n| 6 | 2.63 |\n\n",
            "text/latex": "A tibble: 6 × 2\n\\begin{tabular}{ll}\n trip\\_distance\\_id & trip\\_distance\\\\\n <int> & <dbl>\\\\\n\\hline\n\t 1 & 1.60\\\\\n\t 2 & 0.50\\\\\n\t 3 & 0.60\\\\\n\t 4 & 0.52\\\\\n\t 5 & 0.66\\\\\n\t 6 & 2.63\\\\\n\\end{tabular}\n",
            "text/plain": [
              "  trip_distance_id trip_distance\n",
              "1 1                1.60         \n",
              "2 2                0.50         \n",
              "3 3                0.60         \n",
              "4 4                0.52         \n",
              "5 5                0.66         \n",
              "6 6                2.63         "
            ]
          },
          "metadata": {}
        }
      ]
    },
    {
      "cell_type": "code",
      "source": [
        "# Rate code dimension\n",
        "rate_code_type <- c(\n",
        "  \"1\" = \"Standard rate\",\n",
        "  \"2\" = \"JFK\",\n",
        "  \"3\" = \"Newark\",\n",
        "  \"4\" = \"Nassau or Westchester\",\n",
        "  \"5\" = \"Negotiated fare\",\n",
        "  \"6\" = \"Group ride\"\n",
        ")\n",
        "\n",
        "# Rate code dimension (fixing NA rowname issue)\n",
        "rate_code_dim <- df %>%\n",
        "  select(RatecodeID) %>%\n",
        "  distinct() %>%\n",
        "  mutate(\n",
        "    rate_code_id = row_number(),\n",
        "    rate_code_name = rate_code_type[as.character(RatecodeID)]\n",
        "  ) %>%\n",
        "  select(rate_code_id, RatecodeID, rate_code_name) %>%\n",
        "  as.data.frame()\n",
        "\n",
        "# View\n",
        "head(rate_code_dim, 5)\n",
        "\n"
      ],
      "metadata": {
        "colab": {
          "base_uri": "https://localhost:8080/",
          "height": 255
        },
        "id": "eJkHwnLYX_P2",
        "outputId": "dd80d512-84fa-4464-f775-723d04278305"
      },
      "execution_count": 229,
      "outputs": [
        {
          "output_type": "display_data",
          "data": {
            "text/html": [
              "<table class=\"dataframe\">\n",
              "<caption>A data.frame: 5 × 3</caption>\n",
              "<thead>\n",
              "\t<tr><th></th><th scope=col>rate_code_id</th><th scope=col>RatecodeID</th><th scope=col>rate_code_name</th></tr>\n",
              "\t<tr><th></th><th scope=col>&lt;int&gt;</th><th scope=col>&lt;int&gt;</th><th scope=col>&lt;chr&gt;</th></tr>\n",
              "</thead>\n",
              "<tbody>\n",
              "\t<tr><th scope=row>1</th><td>1</td><td> 1</td><td>Standard rate        </td></tr>\n",
              "\t<tr><th scope=row>2</th><td>2</td><td> 5</td><td>Negotiated fare      </td></tr>\n",
              "\t<tr><th scope=row>3</th><td>3</td><td>99</td><td>NA                   </td></tr>\n",
              "\t<tr><th scope=row>4</th><td>4</td><td> 2</td><td>JFK                  </td></tr>\n",
              "\t<tr><th scope=row>5</th><td>5</td><td> 4</td><td>Nassau or Westchester</td></tr>\n",
              "</tbody>\n",
              "</table>\n"
            ],
            "text/markdown": "\nA data.frame: 5 × 3\n\n| <!--/--> | rate_code_id &lt;int&gt; | RatecodeID &lt;int&gt; | rate_code_name &lt;chr&gt; |\n|---|---|---|---|\n| 1 | 1 |  1 | Standard rate         |\n| 2 | 2 |  5 | Negotiated fare       |\n| 3 | 3 | 99 | NA                    |\n| 4 | 4 |  2 | JFK                   |\n| 5 | 5 |  4 | Nassau or Westchester |\n\n",
            "text/latex": "A data.frame: 5 × 3\n\\begin{tabular}{r|lll}\n  & rate\\_code\\_id & RatecodeID & rate\\_code\\_name\\\\\n  & <int> & <int> & <chr>\\\\\n\\hline\n\t1 & 1 &  1 & Standard rate        \\\\\n\t2 & 2 &  5 & Negotiated fare      \\\\\n\t3 & 3 & 99 & NA                   \\\\\n\t4 & 4 &  2 & JFK                  \\\\\n\t5 & 5 &  4 & Nassau or Westchester\\\\\n\\end{tabular}\n",
            "text/plain": [
              "  rate_code_id RatecodeID rate_code_name       \n",
              "1 1             1         Standard rate        \n",
              "2 2             5         Negotiated fare      \n",
              "3 3            99         NA                   \n",
              "4 4             2         JFK                  \n",
              "5 5             4         Nassau or Westchester"
            ]
          },
          "metadata": {}
        }
      ]
    },
    {
      "cell_type": "code",
      "source": [
        "head(rate_code_dim)"
      ],
      "metadata": {
        "colab": {
          "base_uri": "https://localhost:8080/",
          "height": 286
        },
        "id": "qr3xJQXsYCov",
        "outputId": "38dd1c0b-5e1e-47c7-fa44-ad39fae6c238"
      },
      "execution_count": 230,
      "outputs": [
        {
          "output_type": "display_data",
          "data": {
            "text/html": [
              "<table class=\"dataframe\">\n",
              "<caption>A data.frame: 6 × 3</caption>\n",
              "<thead>\n",
              "\t<tr><th></th><th scope=col>rate_code_id</th><th scope=col>RatecodeID</th><th scope=col>rate_code_name</th></tr>\n",
              "\t<tr><th></th><th scope=col>&lt;int&gt;</th><th scope=col>&lt;int&gt;</th><th scope=col>&lt;chr&gt;</th></tr>\n",
              "</thead>\n",
              "<tbody>\n",
              "\t<tr><th scope=row>1</th><td>1</td><td> 1</td><td>Standard rate        </td></tr>\n",
              "\t<tr><th scope=row>2</th><td>2</td><td> 5</td><td>Negotiated fare      </td></tr>\n",
              "\t<tr><th scope=row>3</th><td>3</td><td>99</td><td>NA                   </td></tr>\n",
              "\t<tr><th scope=row>4</th><td>4</td><td> 2</td><td>JFK                  </td></tr>\n",
              "\t<tr><th scope=row>5</th><td>5</td><td> 4</td><td>Nassau or Westchester</td></tr>\n",
              "\t<tr><th scope=row>6</th><td>6</td><td> 3</td><td>Newark               </td></tr>\n",
              "</tbody>\n",
              "</table>\n"
            ],
            "text/markdown": "\nA data.frame: 6 × 3\n\n| <!--/--> | rate_code_id &lt;int&gt; | RatecodeID &lt;int&gt; | rate_code_name &lt;chr&gt; |\n|---|---|---|---|\n| 1 | 1 |  1 | Standard rate         |\n| 2 | 2 |  5 | Negotiated fare       |\n| 3 | 3 | 99 | NA                    |\n| 4 | 4 |  2 | JFK                   |\n| 5 | 5 |  4 | Nassau or Westchester |\n| 6 | 6 |  3 | Newark                |\n\n",
            "text/latex": "A data.frame: 6 × 3\n\\begin{tabular}{r|lll}\n  & rate\\_code\\_id & RatecodeID & rate\\_code\\_name\\\\\n  & <int> & <int> & <chr>\\\\\n\\hline\n\t1 & 1 &  1 & Standard rate        \\\\\n\t2 & 2 &  5 & Negotiated fare      \\\\\n\t3 & 3 & 99 & NA                   \\\\\n\t4 & 4 &  2 & JFK                  \\\\\n\t5 & 5 &  4 & Nassau or Westchester\\\\\n\t6 & 6 &  3 & Newark               \\\\\n\\end{tabular}\n",
            "text/plain": [
              "  rate_code_id RatecodeID rate_code_name       \n",
              "1 1             1         Standard rate        \n",
              "2 2             5         Negotiated fare      \n",
              "3 3            99         NA                   \n",
              "4 4             2         JFK                  \n",
              "5 5             4         Nassau or Westchester\n",
              "6 6             3         Newark               "
            ]
          },
          "metadata": {}
        }
      ]
    },
    {
      "cell_type": "code",
      "source": [
        "# Pickup location dimension\n",
        "pickup_location_dim <- df %>%\n",
        "  select(PULocationID) %>%\n",
        "  distinct() %>%\n",
        "  mutate(pickup_location_id = row_number()) %>%\n",
        "  select(pickup_location_id, PULocationID)"
      ],
      "metadata": {
        "id": "iL17usMHZ_zO"
      },
      "execution_count": 231,
      "outputs": []
    },
    {
      "cell_type": "code",
      "source": [
        "head(pickup_location_dim)"
      ],
      "metadata": {
        "colab": {
          "base_uri": "https://localhost:8080/",
          "height": 286
        },
        "id": "p1-OXHXgdBKf",
        "outputId": "002efdcb-919b-483c-b3f5-3ea7b70df717"
      },
      "execution_count": 232,
      "outputs": [
        {
          "output_type": "display_data",
          "data": {
            "text/html": [
              "<table class=\"dataframe\">\n",
              "<caption>A tibble: 6 × 2</caption>\n",
              "<thead>\n",
              "\t<tr><th scope=col>pickup_location_id</th><th scope=col>PULocationID</th></tr>\n",
              "\t<tr><th scope=col>&lt;int&gt;</th><th scope=col>&lt;int&gt;</th></tr>\n",
              "</thead>\n",
              "<tbody>\n",
              "\t<tr><td>1</td><td>229</td></tr>\n",
              "\t<tr><td>2</td><td>236</td></tr>\n",
              "\t<tr><td>3</td><td>141</td></tr>\n",
              "\t<tr><td>4</td><td>244</td></tr>\n",
              "\t<tr><td>5</td><td>239</td></tr>\n",
              "\t<tr><td>6</td><td>170</td></tr>\n",
              "</tbody>\n",
              "</table>\n"
            ],
            "text/markdown": "\nA tibble: 6 × 2\n\n| pickup_location_id &lt;int&gt; | PULocationID &lt;int&gt; |\n|---|---|\n| 1 | 229 |\n| 2 | 236 |\n| 3 | 141 |\n| 4 | 244 |\n| 5 | 239 |\n| 6 | 170 |\n\n",
            "text/latex": "A tibble: 6 × 2\n\\begin{tabular}{ll}\n pickup\\_location\\_id & PULocationID\\\\\n <int> & <int>\\\\\n\\hline\n\t 1 & 229\\\\\n\t 2 & 236\\\\\n\t 3 & 141\\\\\n\t 4 & 244\\\\\n\t 5 & 239\\\\\n\t 6 & 170\\\\\n\\end{tabular}\n",
            "text/plain": [
              "  pickup_location_id PULocationID\n",
              "1 1                  229         \n",
              "2 2                  236         \n",
              "3 3                  141         \n",
              "4 4                  244         \n",
              "5 5                  239         \n",
              "6 6                  170         "
            ]
          },
          "metadata": {}
        }
      ]
    },
    {
      "cell_type": "code",
      "source": [
        "# Dropoff location dimension\n",
        "dropoff_location_dim <- df %>%\n",
        "  select(DOLocationID) %>%\n",
        "  distinct() %>%\n",
        "  mutate(dropoff_location_id = row_number()) %>%\n",
        "  select(dropoff_location_id, DOLocationID)"
      ],
      "metadata": {
        "id": "baiJSV1YdFSL"
      },
      "execution_count": 233,
      "outputs": []
    },
    {
      "cell_type": "code",
      "source": [
        "head(dropoff_location_dim)"
      ],
      "metadata": {
        "colab": {
          "base_uri": "https://localhost:8080/",
          "height": 286
        },
        "id": "ATptBXGvn0jM",
        "outputId": "c3d03270-7ade-4697-f013-801ddd3dd4b8"
      },
      "execution_count": 234,
      "outputs": [
        {
          "output_type": "display_data",
          "data": {
            "text/html": [
              "<table class=\"dataframe\">\n",
              "<caption>A tibble: 6 × 2</caption>\n",
              "<thead>\n",
              "\t<tr><th scope=col>dropoff_location_id</th><th scope=col>DOLocationID</th></tr>\n",
              "\t<tr><th scope=col>&lt;int&gt;</th><th scope=col>&lt;int&gt;</th></tr>\n",
              "</thead>\n",
              "<tbody>\n",
              "\t<tr><td>1</td><td>237</td></tr>\n",
              "\t<tr><td>2</td><td>141</td></tr>\n",
              "\t<tr><td>3</td><td>244</td></tr>\n",
              "\t<tr><td>4</td><td>116</td></tr>\n",
              "\t<tr><td>5</td><td> 68</td></tr>\n",
              "\t<tr><td>6</td><td>170</td></tr>\n",
              "</tbody>\n",
              "</table>\n"
            ],
            "text/markdown": "\nA tibble: 6 × 2\n\n| dropoff_location_id &lt;int&gt; | DOLocationID &lt;int&gt; |\n|---|---|\n| 1 | 237 |\n| 2 | 141 |\n| 3 | 244 |\n| 4 | 116 |\n| 5 |  68 |\n| 6 | 170 |\n\n",
            "text/latex": "A tibble: 6 × 2\n\\begin{tabular}{ll}\n dropoff\\_location\\_id & DOLocationID\\\\\n <int> & <int>\\\\\n\\hline\n\t 1 & 237\\\\\n\t 2 & 141\\\\\n\t 3 & 244\\\\\n\t 4 & 116\\\\\n\t 5 &  68\\\\\n\t 6 & 170\\\\\n\\end{tabular}\n",
            "text/plain": [
              "  dropoff_location_id DOLocationID\n",
              "1 1                   237         \n",
              "2 2                   141         \n",
              "3 3                   244         \n",
              "4 4                   116         \n",
              "5 5                    68         \n",
              "6 6                   170         "
            ]
          },
          "metadata": {}
        }
      ]
    },
    {
      "cell_type": "code",
      "source": [
        "# Payment type dimension\n",
        "payment_type_name <- c(\n",
        "  \"1\" = \"Credit card\",\n",
        "  \"2\" = \"Cash\",\n",
        "  \"3\" = \"No charge\",\n",
        "  \"4\" = \"Dispute\",\n",
        "  \"5\" = \"Unknown\",\n",
        "  \"6\" = \"Voided trip\"\n",
        ")\n",
        "\n",
        "payment_type_dim <- df %>%\n",
        "  select(payment_type) %>%\n",
        "  distinct() %>%  # Remove rowid_to_column here\n",
        "  mutate(\n",
        "    payment_type_id = row_number(),\n",
        "    payment_type_name = payment_type_name[as.character(payment_type)]\n",
        "  ) %>%\n",
        "  select(payment_type_id, payment_type, payment_type_name) %>%\n",
        "  as.data.frame() # Convert to data frame\n",
        "\n",
        "head(payment_type_dim)"
      ],
      "metadata": {
        "colab": {
          "base_uri": "https://localhost:8080/",
          "height": 286
        },
        "id": "hminpvDFn9uj",
        "outputId": "fb2ac410-e967-43a3-cecf-0d227015d8e8"
      },
      "execution_count": 236,
      "outputs": [
        {
          "output_type": "display_data",
          "data": {
            "text/html": [
              "<table class=\"dataframe\">\n",
              "<caption>A data.frame: 6 × 3</caption>\n",
              "<thead>\n",
              "\t<tr><th></th><th scope=col>payment_type_id</th><th scope=col>payment_type</th><th scope=col>payment_type_name</th></tr>\n",
              "\t<tr><th></th><th scope=col>&lt;int&gt;</th><th scope=col>&lt;int&gt;</th><th scope=col>&lt;chr&gt;</th></tr>\n",
              "</thead>\n",
              "<tbody>\n",
              "\t<tr><th scope=row>1</th><td>1</td><td>1</td><td>Credit card</td></tr>\n",
              "\t<tr><th scope=row>2</th><td>2</td><td>2</td><td>Cash       </td></tr>\n",
              "\t<tr><th scope=row>3</th><td>3</td><td>4</td><td>Dispute    </td></tr>\n",
              "\t<tr><th scope=row>4</th><td>4</td><td>3</td><td>No charge  </td></tr>\n",
              "\t<tr><th scope=row>5</th><td>5</td><td>5</td><td>Unknown    </td></tr>\n",
              "\t<tr><th scope=row>6</th><td>6</td><td>0</td><td>NA         </td></tr>\n",
              "</tbody>\n",
              "</table>\n"
            ],
            "text/markdown": "\nA data.frame: 6 × 3\n\n| <!--/--> | payment_type_id &lt;int&gt; | payment_type &lt;int&gt; | payment_type_name &lt;chr&gt; |\n|---|---|---|---|\n| 1 | 1 | 1 | Credit card |\n| 2 | 2 | 2 | Cash        |\n| 3 | 3 | 4 | Dispute     |\n| 4 | 4 | 3 | No charge   |\n| 5 | 5 | 5 | Unknown     |\n| 6 | 6 | 0 | NA          |\n\n",
            "text/latex": "A data.frame: 6 × 3\n\\begin{tabular}{r|lll}\n  & payment\\_type\\_id & payment\\_type & payment\\_type\\_name\\\\\n  & <int> & <int> & <chr>\\\\\n\\hline\n\t1 & 1 & 1 & Credit card\\\\\n\t2 & 2 & 2 & Cash       \\\\\n\t3 & 3 & 4 & Dispute    \\\\\n\t4 & 4 & 3 & No charge  \\\\\n\t5 & 5 & 5 & Unknown    \\\\\n\t6 & 6 & 0 & NA         \\\\\n\\end{tabular}\n",
            "text/plain": [
              "  payment_type_id payment_type payment_type_name\n",
              "1 1               1            Credit card      \n",
              "2 2               2            Cash             \n",
              "3 3               4            Dispute          \n",
              "4 4               3            No charge        \n",
              "5 5               5            Unknown          \n",
              "6 6               0            NA               "
            ]
          },
          "metadata": {}
        }
      ]
    },
    {
      "cell_type": "code",
      "source": [
        "# Fact table\n",
        "fact_table <- df %>%\n",
        "  left_join(passenger_count_dim, by = \"passenger_count\") %>%\n",
        "  left_join(trip_distance_dim, by = \"trip_distance\") %>%\n",
        "  left_join(rate_code_dim, by = \"RatecodeID\") %>%\n",
        "  left_join(pickup_location_dim, by = \"PULocationID\") %>%\n",
        "  left_join(dropoff_location_dim, by = \"DOLocationID\") %>%\n",
        "  left_join(datetime_dim, by = c(\"tpep_pickup_datetime\", \"tpep_dropoff_datetime\")) %>%\n",
        "  left_join(payment_type_dim, by = \"payment_type\") %>%\n",
        "  select(VendorID, datetime_id, passenger_count_id,\n",
        "         trip_distance_id, rate_code_id, store_and_fwd_flag,\n",
        "         pickup_location_id, dropoff_location_id,\n",
        "         payment_type_id, fare_amount, extra, mta_tax,\n",
        "         tip_amount, tolls_amount, improvement_surcharge, total_amount,congestion_surcharge, Airport_fee)\n",
        "\n",
        "head(fact_table)"
      ],
      "metadata": {
        "colab": {
          "base_uri": "https://localhost:8080/",
          "height": 306
        },
        "id": "24HlJqc4wXli",
        "outputId": "4fd67b55-a56a-437f-c23c-57077a563b70"
      },
      "execution_count": 242,
      "outputs": [
        {
          "output_type": "display_data",
          "data": {
            "text/html": [
              "<table class=\"dataframe\">\n",
              "<caption>A tibble: 6 × 18</caption>\n",
              "<thead>\n",
              "\t<tr><th scope=col>VendorID</th><th scope=col>datetime_id</th><th scope=col>passenger_count_id</th><th scope=col>trip_distance_id</th><th scope=col>rate_code_id</th><th scope=col>store_and_fwd_flag</th><th scope=col>pickup_location_id</th><th scope=col>dropoff_location_id</th><th scope=col>payment_type_id</th><th scope=col>fare_amount</th><th scope=col>extra</th><th scope=col>mta_tax</th><th scope=col>tip_amount</th><th scope=col>tolls_amount</th><th scope=col>improvement_surcharge</th><th scope=col>total_amount</th><th scope=col>congestion_surcharge</th><th scope=col>Airport_fee</th></tr>\n",
              "\t<tr><th scope=col>&lt;int&gt;</th><th scope=col>&lt;int&gt;</th><th scope=col>&lt;int&gt;</th><th scope=col>&lt;int&gt;</th><th scope=col>&lt;int&gt;</th><th scope=col>&lt;chr&gt;</th><th scope=col>&lt;int&gt;</th><th scope=col>&lt;int&gt;</th><th scope=col>&lt;int&gt;</th><th scope=col>&lt;dbl&gt;</th><th scope=col>&lt;dbl&gt;</th><th scope=col>&lt;dbl&gt;</th><th scope=col>&lt;dbl&gt;</th><th scope=col>&lt;dbl&gt;</th><th scope=col>&lt;dbl&gt;</th><th scope=col>&lt;dbl&gt;</th><th scope=col>&lt;dbl&gt;</th><th scope=col>&lt;dbl&gt;</th></tr>\n",
              "</thead>\n",
              "<tbody>\n",
              "\t<tr><td>1</td><td>1</td><td>1</td><td>1</td><td>1</td><td>N</td><td>1</td><td>1</td><td>1</td><td>10.0</td><td>3.5</td><td>0.5</td><td>3.00</td><td>0</td><td>1</td><td>18.00</td><td>2.5</td><td>0</td></tr>\n",
              "\t<tr><td>1</td><td>2</td><td>1</td><td>2</td><td>1</td><td>N</td><td>2</td><td>1</td><td>1</td><td> 5.1</td><td>3.5</td><td>0.5</td><td>2.02</td><td>0</td><td>1</td><td>12.12</td><td>2.5</td><td>0</td></tr>\n",
              "\t<tr><td>1</td><td>3</td><td>1</td><td>3</td><td>1</td><td>N</td><td>3</td><td>2</td><td>1</td><td> 5.1</td><td>3.5</td><td>0.5</td><td>2.00</td><td>0</td><td>1</td><td>12.10</td><td>2.5</td><td>0</td></tr>\n",
              "\t<tr><td>2</td><td>4</td><td>2</td><td>4</td><td>1</td><td>N</td><td>4</td><td>3</td><td>2</td><td> 7.2</td><td>1.0</td><td>0.5</td><td>0.00</td><td>0</td><td>1</td><td> 9.70</td><td>0.0</td><td>0</td></tr>\n",
              "\t<tr><td>2</td><td>5</td><td>2</td><td>5</td><td>1</td><td>N</td><td>4</td><td>4</td><td>2</td><td> 5.8</td><td>1.0</td><td>0.5</td><td>0.00</td><td>0</td><td>1</td><td> 8.30</td><td>0.0</td><td>0</td></tr>\n",
              "\t<tr><td>2</td><td>6</td><td>3</td><td>6</td><td>1</td><td>N</td><td>5</td><td>5</td><td>2</td><td>19.1</td><td>1.0</td><td>0.5</td><td>0.00</td><td>0</td><td>1</td><td>24.10</td><td>2.5</td><td>0</td></tr>\n",
              "</tbody>\n",
              "</table>\n"
            ],
            "text/markdown": "\nA tibble: 6 × 18\n\n| VendorID &lt;int&gt; | datetime_id &lt;int&gt; | passenger_count_id &lt;int&gt; | trip_distance_id &lt;int&gt; | rate_code_id &lt;int&gt; | store_and_fwd_flag &lt;chr&gt; | pickup_location_id &lt;int&gt; | dropoff_location_id &lt;int&gt; | payment_type_id &lt;int&gt; | fare_amount &lt;dbl&gt; | extra &lt;dbl&gt; | mta_tax &lt;dbl&gt; | tip_amount &lt;dbl&gt; | tolls_amount &lt;dbl&gt; | improvement_surcharge &lt;dbl&gt; | total_amount &lt;dbl&gt; | congestion_surcharge &lt;dbl&gt; | Airport_fee &lt;dbl&gt; |\n|---|---|---|---|---|---|---|---|---|---|---|---|---|---|---|---|---|---|\n| 1 | 1 | 1 | 1 | 1 | N | 1 | 1 | 1 | 10.0 | 3.5 | 0.5 | 3.00 | 0 | 1 | 18.00 | 2.5 | 0 |\n| 1 | 2 | 1 | 2 | 1 | N | 2 | 1 | 1 |  5.1 | 3.5 | 0.5 | 2.02 | 0 | 1 | 12.12 | 2.5 | 0 |\n| 1 | 3 | 1 | 3 | 1 | N | 3 | 2 | 1 |  5.1 | 3.5 | 0.5 | 2.00 | 0 | 1 | 12.10 | 2.5 | 0 |\n| 2 | 4 | 2 | 4 | 1 | N | 4 | 3 | 2 |  7.2 | 1.0 | 0.5 | 0.00 | 0 | 1 |  9.70 | 0.0 | 0 |\n| 2 | 5 | 2 | 5 | 1 | N | 4 | 4 | 2 |  5.8 | 1.0 | 0.5 | 0.00 | 0 | 1 |  8.30 | 0.0 | 0 |\n| 2 | 6 | 3 | 6 | 1 | N | 5 | 5 | 2 | 19.1 | 1.0 | 0.5 | 0.00 | 0 | 1 | 24.10 | 2.5 | 0 |\n\n",
            "text/latex": "A tibble: 6 × 18\n\\begin{tabular}{llllllllllllllllll}\n VendorID & datetime\\_id & passenger\\_count\\_id & trip\\_distance\\_id & rate\\_code\\_id & store\\_and\\_fwd\\_flag & pickup\\_location\\_id & dropoff\\_location\\_id & payment\\_type\\_id & fare\\_amount & extra & mta\\_tax & tip\\_amount & tolls\\_amount & improvement\\_surcharge & total\\_amount & congestion\\_surcharge & Airport\\_fee\\\\\n <int> & <int> & <int> & <int> & <int> & <chr> & <int> & <int> & <int> & <dbl> & <dbl> & <dbl> & <dbl> & <dbl> & <dbl> & <dbl> & <dbl> & <dbl>\\\\\n\\hline\n\t 1 & 1 & 1 & 1 & 1 & N & 1 & 1 & 1 & 10.0 & 3.5 & 0.5 & 3.00 & 0 & 1 & 18.00 & 2.5 & 0\\\\\n\t 1 & 2 & 1 & 2 & 1 & N & 2 & 1 & 1 &  5.1 & 3.5 & 0.5 & 2.02 & 0 & 1 & 12.12 & 2.5 & 0\\\\\n\t 1 & 3 & 1 & 3 & 1 & N & 3 & 2 & 1 &  5.1 & 3.5 & 0.5 & 2.00 & 0 & 1 & 12.10 & 2.5 & 0\\\\\n\t 2 & 4 & 2 & 4 & 1 & N & 4 & 3 & 2 &  7.2 & 1.0 & 0.5 & 0.00 & 0 & 1 &  9.70 & 0.0 & 0\\\\\n\t 2 & 5 & 2 & 5 & 1 & N & 4 & 4 & 2 &  5.8 & 1.0 & 0.5 & 0.00 & 0 & 1 &  8.30 & 0.0 & 0\\\\\n\t 2 & 6 & 3 & 6 & 1 & N & 5 & 5 & 2 & 19.1 & 1.0 & 0.5 & 0.00 & 0 & 1 & 24.10 & 2.5 & 0\\\\\n\\end{tabular}\n",
            "text/plain": [
              "  VendorID datetime_id passenger_count_id trip_distance_id rate_code_id\n",
              "1 1        1           1                  1                1           \n",
              "2 1        2           1                  2                1           \n",
              "3 1        3           1                  3                1           \n",
              "4 2        4           2                  4                1           \n",
              "5 2        5           2                  5                1           \n",
              "6 2        6           3                  6                1           \n",
              "  store_and_fwd_flag pickup_location_id dropoff_location_id payment_type_id\n",
              "1 N                  1                  1                   1              \n",
              "2 N                  2                  1                   1              \n",
              "3 N                  3                  2                   1              \n",
              "4 N                  4                  3                   2              \n",
              "5 N                  4                  4                   2              \n",
              "6 N                  5                  5                   2              \n",
              "  fare_amount extra mta_tax tip_amount tolls_amount improvement_surcharge\n",
              "1 10.0        3.5   0.5     3.00       0            1                    \n",
              "2  5.1        3.5   0.5     2.02       0            1                    \n",
              "3  5.1        3.5   0.5     2.00       0            1                    \n",
              "4  7.2        1.0   0.5     0.00       0            1                    \n",
              "5  5.8        1.0   0.5     0.00       0            1                    \n",
              "6 19.1        1.0   0.5     0.00       0            1                    \n",
              "  total_amount congestion_surcharge Airport_fee\n",
              "1 18.00        2.5                  0          \n",
              "2 12.12        2.5                  0          \n",
              "3 12.10        2.5                  0          \n",
              "4  9.70        0.0                  0          \n",
              "5  8.30        0.0                  0          \n",
              "6 24.10        2.5                  0          "
            ]
          },
          "metadata": {}
        }
      ]
    }
  ]
}